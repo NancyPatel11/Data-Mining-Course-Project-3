{
 "cells": [
  {
   "cell_type": "code",
   "execution_count": 1,
   "metadata": {},
   "outputs": [],
   "source": [
    "import math\n",
    "import numpy as np\n",
    "import pandas as pd\n",
    "import matplotlib.pyplot as plt\n",
    "import seaborn as sns"
   ]
  },
  {
   "cell_type": "code",
   "execution_count": 2,
   "metadata": {},
   "outputs": [],
   "source": [
    "df = pd.read_csv('match_summary.csv',index_col=0)\n",
    "pd.set_option('display.max_columns', None)"
   ]
  },
  {
   "cell_type": "code",
   "execution_count": 3,
   "metadata": {},
   "outputs": [],
   "source": [
    "df = df[df['innings'] == 1]"
   ]
  },
  {
   "cell_type": "code",
   "execution_count": 4,
   "metadata": {},
   "outputs": [],
   "source": [
    "df = df.reset_index(drop=True)"
   ]
  },
  {
   "cell_type": "code",
   "execution_count": 5,
   "metadata": {},
   "outputs": [
    {
     "data": {
      "text/html": [
       "<div>\n",
       "<style scoped>\n",
       "    .dataframe tbody tr th:only-of-type {\n",
       "        vertical-align: middle;\n",
       "    }\n",
       "\n",
       "    .dataframe tbody tr th {\n",
       "        vertical-align: top;\n",
       "    }\n",
       "\n",
       "    .dataframe thead th {\n",
       "        text-align: right;\n",
       "    }\n",
       "</style>\n",
       "<table border=\"1\" class=\"dataframe\">\n",
       "  <thead>\n",
       "    <tr style=\"text-align: right;\">\n",
       "      <th></th>\n",
       "      <th>venue_x</th>\n",
       "      <th>innings</th>\n",
       "      <th>batting_team</th>\n",
       "      <th>bowling_team</th>\n",
       "      <th>total_runs_per_inning_match</th>\n",
       "      <th>Total_Overs_Played</th>\n",
       "    </tr>\n",
       "  </thead>\n",
       "  <tbody>\n",
       "    <tr>\n",
       "      <th>0</th>\n",
       "      <td>Narendra Modi Stadium, Ahmedabad</td>\n",
       "      <td>1</td>\n",
       "      <td>England</td>\n",
       "      <td>New Zealand</td>\n",
       "      <td>282</td>\n",
       "      <td>50.000000</td>\n",
       "    </tr>\n",
       "    <tr>\n",
       "      <th>1</th>\n",
       "      <td>Rajiv Gandhi International Stadium, Uppal, Hyd...</td>\n",
       "      <td>1</td>\n",
       "      <td>Pakistan</td>\n",
       "      <td>Netherlands</td>\n",
       "      <td>286</td>\n",
       "      <td>48.833333</td>\n",
       "    </tr>\n",
       "    <tr>\n",
       "      <th>2</th>\n",
       "      <td>Himachal Pradesh Cricket Association Stadium, ...</td>\n",
       "      <td>1</td>\n",
       "      <td>Afghanistan</td>\n",
       "      <td>Bangladesh</td>\n",
       "      <td>156</td>\n",
       "      <td>37.333333</td>\n",
       "    </tr>\n",
       "    <tr>\n",
       "      <th>3</th>\n",
       "      <td>Arun Jaitley Stadium, Delhi</td>\n",
       "      <td>1</td>\n",
       "      <td>South Africa</td>\n",
       "      <td>Sri Lanka</td>\n",
       "      <td>428</td>\n",
       "      <td>50.000000</td>\n",
       "    </tr>\n",
       "    <tr>\n",
       "      <th>4</th>\n",
       "      <td>MA Chidambaram Stadium, Chepauk, Chennai</td>\n",
       "      <td>1</td>\n",
       "      <td>Australia</td>\n",
       "      <td>India</td>\n",
       "      <td>199</td>\n",
       "      <td>49.500000</td>\n",
       "    </tr>\n",
       "    <tr>\n",
       "      <th>5</th>\n",
       "      <td>Rajiv Gandhi International Stadium, Uppal, Hyd...</td>\n",
       "      <td>1</td>\n",
       "      <td>New Zealand</td>\n",
       "      <td>Netherlands</td>\n",
       "      <td>322</td>\n",
       "      <td>50.000000</td>\n",
       "    </tr>\n",
       "    <tr>\n",
       "      <th>6</th>\n",
       "      <td>Himachal Pradesh Cricket Association Stadium, ...</td>\n",
       "      <td>1</td>\n",
       "      <td>England</td>\n",
       "      <td>Bangladesh</td>\n",
       "      <td>364</td>\n",
       "      <td>50.000000</td>\n",
       "    </tr>\n",
       "    <tr>\n",
       "      <th>7</th>\n",
       "      <td>Rajiv Gandhi International Stadium, Uppal, Hyd...</td>\n",
       "      <td>1</td>\n",
       "      <td>Sri Lanka</td>\n",
       "      <td>Pakistan</td>\n",
       "      <td>344</td>\n",
       "      <td>50.000000</td>\n",
       "    </tr>\n",
       "    <tr>\n",
       "      <th>8</th>\n",
       "      <td>Arun Jaitley Stadium, Delhi</td>\n",
       "      <td>1</td>\n",
       "      <td>Afghanistan</td>\n",
       "      <td>India</td>\n",
       "      <td>272</td>\n",
       "      <td>50.000000</td>\n",
       "    </tr>\n",
       "    <tr>\n",
       "      <th>9</th>\n",
       "      <td>MA Chidambaram Stadium, Chepauk, Chennai</td>\n",
       "      <td>1</td>\n",
       "      <td>Bangladesh</td>\n",
       "      <td>New Zealand</td>\n",
       "      <td>245</td>\n",
       "      <td>50.000000</td>\n",
       "    </tr>\n",
       "    <tr>\n",
       "      <th>10</th>\n",
       "      <td>Narendra Modi Stadium, Ahmedabad</td>\n",
       "      <td>1</td>\n",
       "      <td>Pakistan</td>\n",
       "      <td>India</td>\n",
       "      <td>191</td>\n",
       "      <td>42.833333</td>\n",
       "    </tr>\n",
       "    <tr>\n",
       "      <th>11</th>\n",
       "      <td>Arun Jaitley Stadium, Delhi</td>\n",
       "      <td>1</td>\n",
       "      <td>Afghanistan</td>\n",
       "      <td>England</td>\n",
       "      <td>284</td>\n",
       "      <td>49.833333</td>\n",
       "    </tr>\n",
       "    <tr>\n",
       "      <th>12</th>\n",
       "      <td>Bharat Ratna Shri Atal Bihari Vajpayee Ekana C...</td>\n",
       "      <td>1</td>\n",
       "      <td>Sri Lanka</td>\n",
       "      <td>Australia</td>\n",
       "      <td>209</td>\n",
       "      <td>43.500000</td>\n",
       "    </tr>\n",
       "    <tr>\n",
       "      <th>13</th>\n",
       "      <td>Himachal Pradesh Cricket Association Stadium, ...</td>\n",
       "      <td>1</td>\n",
       "      <td>Netherlands</td>\n",
       "      <td>South Africa</td>\n",
       "      <td>245</td>\n",
       "      <td>43.000000</td>\n",
       "    </tr>\n",
       "    <tr>\n",
       "      <th>14</th>\n",
       "      <td>MA Chidambaram Stadium, Chepauk, Chennai</td>\n",
       "      <td>1</td>\n",
       "      <td>New Zealand</td>\n",
       "      <td>Afghanistan</td>\n",
       "      <td>288</td>\n",
       "      <td>50.000000</td>\n",
       "    </tr>\n",
       "    <tr>\n",
       "      <th>15</th>\n",
       "      <td>Maharashtra Cricket Association Stadium, Pune</td>\n",
       "      <td>1</td>\n",
       "      <td>Bangladesh</td>\n",
       "      <td>India</td>\n",
       "      <td>256</td>\n",
       "      <td>50.000000</td>\n",
       "    </tr>\n",
       "    <tr>\n",
       "      <th>16</th>\n",
       "      <td>M Chinnaswamy Stadium, Bengaluru</td>\n",
       "      <td>1</td>\n",
       "      <td>Australia</td>\n",
       "      <td>Pakistan</td>\n",
       "      <td>367</td>\n",
       "      <td>50.000000</td>\n",
       "    </tr>\n",
       "    <tr>\n",
       "      <th>17</th>\n",
       "      <td>Bharat Ratna Shri Atal Bihari Vajpayee Ekana C...</td>\n",
       "      <td>1</td>\n",
       "      <td>Netherlands</td>\n",
       "      <td>Sri Lanka</td>\n",
       "      <td>262</td>\n",
       "      <td>49.666667</td>\n",
       "    </tr>\n",
       "    <tr>\n",
       "      <th>18</th>\n",
       "      <td>Wankhede Stadium, Mumbai</td>\n",
       "      <td>1</td>\n",
       "      <td>South Africa</td>\n",
       "      <td>England</td>\n",
       "      <td>399</td>\n",
       "      <td>50.000000</td>\n",
       "    </tr>\n",
       "    <tr>\n",
       "      <th>19</th>\n",
       "      <td>Himachal Pradesh Cricket Association Stadium, ...</td>\n",
       "      <td>1</td>\n",
       "      <td>New Zealand</td>\n",
       "      <td>India</td>\n",
       "      <td>273</td>\n",
       "      <td>50.000000</td>\n",
       "    </tr>\n",
       "    <tr>\n",
       "      <th>20</th>\n",
       "      <td>MA Chidambaram Stadium, Chepauk, Chennai</td>\n",
       "      <td>1</td>\n",
       "      <td>Pakistan</td>\n",
       "      <td>Afghanistan</td>\n",
       "      <td>282</td>\n",
       "      <td>50.000000</td>\n",
       "    </tr>\n",
       "    <tr>\n",
       "      <th>21</th>\n",
       "      <td>Bharat Ratna Shri Atal Bihari Vajpayee Ekana C...</td>\n",
       "      <td>1</td>\n",
       "      <td>South Africa</td>\n",
       "      <td>Australia</td>\n",
       "      <td>311</td>\n",
       "      <td>50.000000</td>\n",
       "    </tr>\n",
       "    <tr>\n",
       "      <th>22</th>\n",
       "      <td>Wankhede Stadium, Mumbai</td>\n",
       "      <td>1</td>\n",
       "      <td>South Africa</td>\n",
       "      <td>Bangladesh</td>\n",
       "      <td>382</td>\n",
       "      <td>50.000000</td>\n",
       "    </tr>\n",
       "    <tr>\n",
       "      <th>23</th>\n",
       "      <td>Arun Jaitley Stadium, Delhi</td>\n",
       "      <td>1</td>\n",
       "      <td>Australia</td>\n",
       "      <td>Netherlands</td>\n",
       "      <td>399</td>\n",
       "      <td>50.000000</td>\n",
       "    </tr>\n",
       "    <tr>\n",
       "      <th>24</th>\n",
       "      <td>M Chinnaswamy Stadium, Bengaluru</td>\n",
       "      <td>1</td>\n",
       "      <td>England</td>\n",
       "      <td>Sri Lanka</td>\n",
       "      <td>156</td>\n",
       "      <td>33.333333</td>\n",
       "    </tr>\n",
       "    <tr>\n",
       "      <th>25</th>\n",
       "      <td>MA Chidambaram Stadium, Chepauk, Chennai</td>\n",
       "      <td>1</td>\n",
       "      <td>Pakistan</td>\n",
       "      <td>South Africa</td>\n",
       "      <td>270</td>\n",
       "      <td>46.666667</td>\n",
       "    </tr>\n",
       "    <tr>\n",
       "      <th>26</th>\n",
       "      <td>Himachal Pradesh Cricket Association Stadium, ...</td>\n",
       "      <td>1</td>\n",
       "      <td>Australia</td>\n",
       "      <td>New Zealand</td>\n",
       "      <td>388</td>\n",
       "      <td>49.333333</td>\n",
       "    </tr>\n",
       "    <tr>\n",
       "      <th>27</th>\n",
       "      <td>Eden Gardens, Kolkata</td>\n",
       "      <td>1</td>\n",
       "      <td>Netherlands</td>\n",
       "      <td>Bangladesh</td>\n",
       "      <td>229</td>\n",
       "      <td>50.000000</td>\n",
       "    </tr>\n",
       "    <tr>\n",
       "      <th>28</th>\n",
       "      <td>Bharat Ratna Shri Atal Bihari Vajpayee Ekana C...</td>\n",
       "      <td>1</td>\n",
       "      <td>India</td>\n",
       "      <td>England</td>\n",
       "      <td>229</td>\n",
       "      <td>50.000000</td>\n",
       "    </tr>\n",
       "    <tr>\n",
       "      <th>29</th>\n",
       "      <td>Maharashtra Cricket Association Stadium, Pune</td>\n",
       "      <td>1</td>\n",
       "      <td>Sri Lanka</td>\n",
       "      <td>Afghanistan</td>\n",
       "      <td>241</td>\n",
       "      <td>49.500000</td>\n",
       "    </tr>\n",
       "    <tr>\n",
       "      <th>30</th>\n",
       "      <td>Eden Gardens, Kolkata</td>\n",
       "      <td>1</td>\n",
       "      <td>Bangladesh</td>\n",
       "      <td>Pakistan</td>\n",
       "      <td>204</td>\n",
       "      <td>45.166667</td>\n",
       "    </tr>\n",
       "    <tr>\n",
       "      <th>31</th>\n",
       "      <td>Maharashtra Cricket Association Stadium, Pune</td>\n",
       "      <td>1</td>\n",
       "      <td>South Africa</td>\n",
       "      <td>New Zealand</td>\n",
       "      <td>357</td>\n",
       "      <td>50.000000</td>\n",
       "    </tr>\n",
       "  </tbody>\n",
       "</table>\n",
       "</div>"
      ],
      "text/plain": [
       "                                              venue_x  innings  batting_team  \\\n",
       "0                    Narendra Modi Stadium, Ahmedabad        1       England   \n",
       "1   Rajiv Gandhi International Stadium, Uppal, Hyd...        1      Pakistan   \n",
       "2   Himachal Pradesh Cricket Association Stadium, ...        1   Afghanistan   \n",
       "3                         Arun Jaitley Stadium, Delhi        1  South Africa   \n",
       "4            MA Chidambaram Stadium, Chepauk, Chennai        1     Australia   \n",
       "5   Rajiv Gandhi International Stadium, Uppal, Hyd...        1   New Zealand   \n",
       "6   Himachal Pradesh Cricket Association Stadium, ...        1       England   \n",
       "7   Rajiv Gandhi International Stadium, Uppal, Hyd...        1     Sri Lanka   \n",
       "8                         Arun Jaitley Stadium, Delhi        1   Afghanistan   \n",
       "9            MA Chidambaram Stadium, Chepauk, Chennai        1    Bangladesh   \n",
       "10                   Narendra Modi Stadium, Ahmedabad        1      Pakistan   \n",
       "11                        Arun Jaitley Stadium, Delhi        1   Afghanistan   \n",
       "12  Bharat Ratna Shri Atal Bihari Vajpayee Ekana C...        1     Sri Lanka   \n",
       "13  Himachal Pradesh Cricket Association Stadium, ...        1   Netherlands   \n",
       "14           MA Chidambaram Stadium, Chepauk, Chennai        1   New Zealand   \n",
       "15      Maharashtra Cricket Association Stadium, Pune        1    Bangladesh   \n",
       "16                   M Chinnaswamy Stadium, Bengaluru        1     Australia   \n",
       "17  Bharat Ratna Shri Atal Bihari Vajpayee Ekana C...        1   Netherlands   \n",
       "18                           Wankhede Stadium, Mumbai        1  South Africa   \n",
       "19  Himachal Pradesh Cricket Association Stadium, ...        1   New Zealand   \n",
       "20           MA Chidambaram Stadium, Chepauk, Chennai        1      Pakistan   \n",
       "21  Bharat Ratna Shri Atal Bihari Vajpayee Ekana C...        1  South Africa   \n",
       "22                           Wankhede Stadium, Mumbai        1  South Africa   \n",
       "23                        Arun Jaitley Stadium, Delhi        1     Australia   \n",
       "24                   M Chinnaswamy Stadium, Bengaluru        1       England   \n",
       "25           MA Chidambaram Stadium, Chepauk, Chennai        1      Pakistan   \n",
       "26  Himachal Pradesh Cricket Association Stadium, ...        1     Australia   \n",
       "27                              Eden Gardens, Kolkata        1   Netherlands   \n",
       "28  Bharat Ratna Shri Atal Bihari Vajpayee Ekana C...        1         India   \n",
       "29      Maharashtra Cricket Association Stadium, Pune        1     Sri Lanka   \n",
       "30                              Eden Gardens, Kolkata        1    Bangladesh   \n",
       "31      Maharashtra Cricket Association Stadium, Pune        1  South Africa   \n",
       "\n",
       "    bowling_team  total_runs_per_inning_match  Total_Overs_Played  \n",
       "0    New Zealand                          282           50.000000  \n",
       "1    Netherlands                          286           48.833333  \n",
       "2     Bangladesh                          156           37.333333  \n",
       "3      Sri Lanka                          428           50.000000  \n",
       "4          India                          199           49.500000  \n",
       "5    Netherlands                          322           50.000000  \n",
       "6     Bangladesh                          364           50.000000  \n",
       "7       Pakistan                          344           50.000000  \n",
       "8          India                          272           50.000000  \n",
       "9    New Zealand                          245           50.000000  \n",
       "10         India                          191           42.833333  \n",
       "11       England                          284           49.833333  \n",
       "12     Australia                          209           43.500000  \n",
       "13  South Africa                          245           43.000000  \n",
       "14   Afghanistan                          288           50.000000  \n",
       "15         India                          256           50.000000  \n",
       "16      Pakistan                          367           50.000000  \n",
       "17     Sri Lanka                          262           49.666667  \n",
       "18       England                          399           50.000000  \n",
       "19         India                          273           50.000000  \n",
       "20   Afghanistan                          282           50.000000  \n",
       "21     Australia                          311           50.000000  \n",
       "22    Bangladesh                          382           50.000000  \n",
       "23   Netherlands                          399           50.000000  \n",
       "24     Sri Lanka                          156           33.333333  \n",
       "25  South Africa                          270           46.666667  \n",
       "26   New Zealand                          388           49.333333  \n",
       "27    Bangladesh                          229           50.000000  \n",
       "28       England                          229           50.000000  \n",
       "29   Afghanistan                          241           49.500000  \n",
       "30      Pakistan                          204           45.166667  \n",
       "31   New Zealand                          357           50.000000  "
      ]
     },
     "execution_count": 5,
     "metadata": {},
     "output_type": "execute_result"
    }
   ],
   "source": [
    "df.head(40)"
   ]
  },
  {
   "cell_type": "code",
   "execution_count": 6,
   "metadata": {},
   "outputs": [],
   "source": [
    "df = df.drop(['innings'],axis='columns')"
   ]
  },
  {
   "cell_type": "code",
   "execution_count": 7,
   "metadata": {},
   "outputs": [
    {
     "data": {
      "text/plain": [
       "(32, 5)"
      ]
     },
     "execution_count": 7,
     "metadata": {},
     "output_type": "execute_result"
    }
   ],
   "source": [
    "df.shape"
   ]
  },
  {
   "cell_type": "code",
   "execution_count": 8,
   "metadata": {},
   "outputs": [
    {
     "data": {
      "text/plain": [
       "Index(['venue_x', 'batting_team', 'bowling_team',\n",
       "       'total_runs_per_inning_match', 'Total_Overs_Played'],\n",
       "      dtype='object')"
      ]
     },
     "execution_count": 8,
     "metadata": {},
     "output_type": "execute_result"
    }
   ],
   "source": [
    "df.columns"
   ]
  },
  {
   "cell_type": "code",
   "execution_count": 9,
   "metadata": {},
   "outputs": [
    {
     "data": {
      "text/plain": [
       "venue_x                         object\n",
       "batting_team                    object\n",
       "bowling_team                    object\n",
       "total_runs_per_inning_match      int64\n",
       "Total_Overs_Played             float64\n",
       "dtype: object"
      ]
     },
     "execution_count": 9,
     "metadata": {},
     "output_type": "execute_result"
    }
   ],
   "source": [
    "df.dtypes"
   ]
  },
  {
   "cell_type": "code",
   "execution_count": 10,
   "metadata": {},
   "outputs": [
    {
     "data": {
      "text/html": [
       "<div>\n",
       "<style scoped>\n",
       "    .dataframe tbody tr th:only-of-type {\n",
       "        vertical-align: middle;\n",
       "    }\n",
       "\n",
       "    .dataframe tbody tr th {\n",
       "        vertical-align: top;\n",
       "    }\n",
       "\n",
       "    .dataframe thead th {\n",
       "        text-align: right;\n",
       "    }\n",
       "</style>\n",
       "<table border=\"1\" class=\"dataframe\">\n",
       "  <thead>\n",
       "    <tr style=\"text-align: right;\">\n",
       "      <th></th>\n",
       "      <th>total_runs_per_inning_match</th>\n",
       "      <th>Total_Overs_Played</th>\n",
       "    </tr>\n",
       "  </thead>\n",
       "  <tbody>\n",
       "    <tr>\n",
       "      <th>count</th>\n",
       "      <td>32.000000</td>\n",
       "      <td>32.000000</td>\n",
       "    </tr>\n",
       "    <tr>\n",
       "      <th>mean</th>\n",
       "      <td>285.000000</td>\n",
       "      <td>48.078125</td>\n",
       "    </tr>\n",
       "    <tr>\n",
       "      <th>std</th>\n",
       "      <td>73.028938</td>\n",
       "      <td>4.014308</td>\n",
       "    </tr>\n",
       "    <tr>\n",
       "      <th>min</th>\n",
       "      <td>156.000000</td>\n",
       "      <td>33.333333</td>\n",
       "    </tr>\n",
       "    <tr>\n",
       "      <th>25%</th>\n",
       "      <td>238.000000</td>\n",
       "      <td>49.208333</td>\n",
       "    </tr>\n",
       "    <tr>\n",
       "      <th>50%</th>\n",
       "      <td>277.500000</td>\n",
       "      <td>50.000000</td>\n",
       "    </tr>\n",
       "    <tr>\n",
       "      <th>75%</th>\n",
       "      <td>347.250000</td>\n",
       "      <td>50.000000</td>\n",
       "    </tr>\n",
       "    <tr>\n",
       "      <th>max</th>\n",
       "      <td>428.000000</td>\n",
       "      <td>50.000000</td>\n",
       "    </tr>\n",
       "  </tbody>\n",
       "</table>\n",
       "</div>"
      ],
      "text/plain": [
       "       total_runs_per_inning_match  Total_Overs_Played\n",
       "count                    32.000000           32.000000\n",
       "mean                    285.000000           48.078125\n",
       "std                      73.028938            4.014308\n",
       "min                     156.000000           33.333333\n",
       "25%                     238.000000           49.208333\n",
       "50%                     277.500000           50.000000\n",
       "75%                     347.250000           50.000000\n",
       "max                     428.000000           50.000000"
      ]
     },
     "execution_count": 10,
     "metadata": {},
     "output_type": "execute_result"
    }
   ],
   "source": [
    "df.describe()"
   ]
  },
  {
   "cell_type": "code",
   "execution_count": 11,
   "metadata": {},
   "outputs": [
    {
     "name": "stdout",
     "output_type": "stream",
     "text": [
      "<class 'pandas.core.frame.DataFrame'>\n",
      "RangeIndex: 32 entries, 0 to 31\n",
      "Data columns (total 5 columns):\n",
      " #   Column                       Non-Null Count  Dtype  \n",
      "---  ------                       --------------  -----  \n",
      " 0   venue_x                      32 non-null     object \n",
      " 1   batting_team                 32 non-null     object \n",
      " 2   bowling_team                 32 non-null     object \n",
      " 3   total_runs_per_inning_match  32 non-null     int64  \n",
      " 4   Total_Overs_Played           32 non-null     float64\n",
      "dtypes: float64(1), int64(1), object(3)\n",
      "memory usage: 1.4+ KB\n"
     ]
    }
   ],
   "source": [
    "df.info()"
   ]
  },
  {
   "cell_type": "code",
   "execution_count": 12,
   "metadata": {},
   "outputs": [
    {
     "data": {
      "text/plain": [
       "venue_x                        0\n",
       "batting_team                   0\n",
       "bowling_team                   0\n",
       "total_runs_per_inning_match    0\n",
       "Total_Overs_Played             0\n",
       "dtype: int64"
      ]
     },
     "execution_count": 12,
     "metadata": {},
     "output_type": "execute_result"
    }
   ],
   "source": [
    "df.isnull().sum()"
   ]
  },
  {
   "cell_type": "code",
   "execution_count": 13,
   "metadata": {},
   "outputs": [
    {
     "data": {
      "text/plain": [
       "venue_x                        10\n",
       "batting_team                   10\n",
       "bowling_team                   10\n",
       "total_runs_per_inning_match    27\n",
       "Total_Overs_Played             13\n",
       "dtype: int64"
      ]
     },
     "execution_count": 13,
     "metadata": {},
     "output_type": "execute_result"
    }
   ],
   "source": [
    "df.nunique()"
   ]
  },
  {
   "cell_type": "code",
   "execution_count": 14,
   "metadata": {},
   "outputs": [
    {
     "data": {
      "text/plain": [
       "['venue_x', 'batting_team', 'bowling_team']"
      ]
     },
     "execution_count": 14,
     "metadata": {},
     "output_type": "execute_result"
    }
   ],
   "source": [
    "cat = [col for col in df if df[col].dtype == 'object']\n",
    "cat"
   ]
  },
  {
   "cell_type": "code",
   "execution_count": 15,
   "metadata": {},
   "outputs": [],
   "source": [
    "from sklearn import preprocessing\n",
    "le = preprocessing.LabelEncoder()"
   ]
  },
  {
   "cell_type": "code",
   "execution_count": 16,
   "metadata": {},
   "outputs": [],
   "source": [
    "mapping = {}\n",
    "\n",
    "for column in cat:\n",
    "    df[column] = le.fit_transform(df[column])\n",
    "    mapping[column] = dict(zip(le.classes_, le.transform(le.classes_)))"
   ]
  },
  {
   "cell_type": "code",
   "execution_count": 17,
   "metadata": {},
   "outputs": [
    {
     "name": "stdout",
     "output_type": "stream",
     "text": [
      "Mapping for column \"venue_x\":\n",
      "Arun Jaitley Stadium, Delhi: 0\n",
      "Bharat Ratna Shri Atal Bihari Vajpayee Ekana Cricket Stadium, Lucknow: 1\n",
      "Eden Gardens, Kolkata: 2\n",
      "Himachal Pradesh Cricket Association Stadium, Dharamsala: 3\n",
      "M Chinnaswamy Stadium, Bengaluru: 4\n",
      "MA Chidambaram Stadium, Chepauk, Chennai: 5\n",
      "Maharashtra Cricket Association Stadium, Pune: 6\n",
      "Narendra Modi Stadium, Ahmedabad: 7\n",
      "Rajiv Gandhi International Stadium, Uppal, Hyderabad: 8\n",
      "Wankhede Stadium, Mumbai: 9\n",
      "\n",
      "Mapping for column \"batting_team\":\n",
      "Afghanistan: 0\n",
      "Australia: 1\n",
      "Bangladesh: 2\n",
      "England: 3\n",
      "India: 4\n",
      "Netherlands: 5\n",
      "New Zealand: 6\n",
      "Pakistan: 7\n",
      "South Africa: 8\n",
      "Sri Lanka: 9\n",
      "\n",
      "Mapping for column \"bowling_team\":\n",
      "Afghanistan: 0\n",
      "Australia: 1\n",
      "Bangladesh: 2\n",
      "England: 3\n",
      "India: 4\n",
      "Netherlands: 5\n",
      "New Zealand: 6\n",
      "Pakistan: 7\n",
      "South Africa: 8\n",
      "Sri Lanka: 9\n",
      "\n"
     ]
    }
   ],
   "source": [
    "for column_name in cat:\n",
    "    print(f'Mapping for column \"{column_name}\":')\n",
    "    for key, value in mapping[column_name].items():\n",
    "        print(f'{key}: {value}')\n",
    "    print()\n"
   ]
  },
  {
   "cell_type": "code",
   "execution_count": 18,
   "metadata": {},
   "outputs": [],
   "source": [
    "from sklearn.model_selection import train_test_split, cross_validate, cross_val_score, GridSearchCV\n",
    "from sklearn.metrics import mean_squared_error, mean_absolute_error\n",
    "\n",
    "# Models-------------------------\n",
    "from sklearn.linear_model import LinearRegression\n",
    "from sklearn.ensemble import RandomForestRegressor\n",
    "from sklearn.preprocessing import PolynomialFeatures\n",
    "from sklearn.pipeline import make_pipeline\n",
    "from xgboost import XGBRegressor\n"
   ]
  },
  {
   "cell_type": "code",
   "execution_count": 19,
   "metadata": {},
   "outputs": [],
   "source": [
    "X = df[['batting_team','bowling_team','venue_x','Total_Overs_Played']]\n",
    "y = df['total_runs_per_inning_match']"
   ]
  },
  {
   "cell_type": "code",
   "execution_count": 20,
   "metadata": {},
   "outputs": [],
   "source": [
    "X_train, X_test, y_train, y_test = train_test_split(X,y, random_state=42, test_size=0.20, shuffle=True)"
   ]
  },
  {
   "cell_type": "code",
   "execution_count": 21,
   "metadata": {},
   "outputs": [
    {
     "data": {
      "text/plain": [
       "((25, 4), (7, 4))"
      ]
     },
     "execution_count": 21,
     "metadata": {},
     "output_type": "execute_result"
    }
   ],
   "source": [
    "size_scaler = preprocessing.StandardScaler().fit(X_train)\n",
    "X_train_scaled = size_scaler.transform(X_train)\n",
    "X_test_scaled = size_scaler.transform(X_test)\n",
    "X_train_scaled.shape, X_test_scaled.shape"
   ]
  },
  {
   "cell_type": "code",
   "execution_count": 22,
   "metadata": {},
   "outputs": [],
   "source": [
    "model_dict = {\n",
    "    'LinearRegression': {\"model\": LinearRegression(), \"params\": {}},\n",
    "    'RandomForestRegressor': {\"model\": RandomForestRegressor(random_state=42),\n",
    "                     \"params\": {'n_estimators': list(range(5, 50, 5)), 'max_depth': list(range(1, 10, 2))}},\n",
    "    'XGBRegressor': {\"model\": XGBRegressor(), \"params\": {'n_estimators': list(range(10, 800, 100)), 'learning_rate': [0.001, 0.01, 0.1]}},\n",
    "    'PolynomialFeatures': {\"model\": make_pipeline(PolynomialFeatures(), LinearRegression()),\n",
    "                      \"params\": {'polynomialfeatures__degree': [2,3]}}\n",
    "}\n"
   ]
  },
  {
   "cell_type": "code",
   "execution_count": 23,
   "metadata": {},
   "outputs": [],
   "source": [
    "def eval_models():\n",
    "    model_results = pd.DataFrame()\n",
    "    model_results['Train_RMSE'] = None\n",
    "    model_results['Test_RMSE'] = None\n",
    "    model_results['Train_MAE'] = None\n",
    "    model_results['Test_MAE'] = None\n",
    "    model_results['best_params'] = None\n",
    "    best_test_score = math.inf\n",
    "\n",
    "    for model_name, reg_model in model_dict.items():\n",
    "        classifier = GridSearchCV(reg_model['model'], reg_model['params'], n_jobs=20, verbose=0)\n",
    "        classifier.fit(X_train_scaled, y_train)\n",
    "        best_model = classifier.best_estimator_\n",
    "\n",
    "        y_train_predicted = best_model.predict(X_train_scaled)\n",
    "        train_rmse = np.sqrt(mean_squared_error(y_train, y_train_predicted))\n",
    "        train_mae = mean_absolute_error(y_train, y_train_predicted)\n",
    "\n",
    "        print(model_name, train_rmse, classifier.best_params_)\n",
    "\n",
    "        y_predicted = best_model.predict(X_test_scaled)\n",
    "        test_rmse = np.sqrt(mean_squared_error(y_test, y_predicted))\n",
    "        test_mae = mean_absolute_error(y_test, y_predicted)\n",
    "\n",
    "        if test_rmse < best_test_score:\n",
    "            best_test_score = test_rmse\n",
    "            best_reg_model_ours = best_model\n",
    "\n",
    "        model_results.loc[model_name, ['Train_RMSE', 'Test_RMSE', 'Train_MAE', 'Test_MAE', 'best_params']] = [train_rmse, test_rmse, train_mae, test_mae, classifier.best_params_]\n",
    "\n",
    "    print(\"Best model: \", best_reg_model_ours)\n",
    "    y_predicted = best_reg_model_ours.predict(X_test_scaled)\n",
    "\n",
    "    return model_results,best_reg_model_ours"
   ]
  },
  {
   "cell_type": "code",
   "execution_count": 24,
   "metadata": {},
   "outputs": [
    {
     "name": "stdout",
     "output_type": "stream",
     "text": [
      "LinearRegression 51.29764300330085 {}\n",
      "RandomForestRegressor 21.535989590179113 {'max_depth': 7, 'n_estimators': 35}\n",
      "XGBRegressor 58.681108654677516 {'learning_rate': 0.001, 'n_estimators': 310}\n",
      "PolynomialFeatures 1.3888884180767737e-13 {'polynomialfeatures__degree': 3}\n",
      "Best model:  RandomForestRegressor(max_depth=7, n_estimators=35, random_state=42)\n"
     ]
    },
    {
     "data": {
      "text/html": [
       "<div>\n",
       "<style scoped>\n",
       "    .dataframe tbody tr th:only-of-type {\n",
       "        vertical-align: middle;\n",
       "    }\n",
       "\n",
       "    .dataframe tbody tr th {\n",
       "        vertical-align: top;\n",
       "    }\n",
       "\n",
       "    .dataframe thead th {\n",
       "        text-align: right;\n",
       "    }\n",
       "</style>\n",
       "<table border=\"1\" class=\"dataframe\">\n",
       "  <thead>\n",
       "    <tr style=\"text-align: right;\">\n",
       "      <th></th>\n",
       "      <th>Train_RMSE</th>\n",
       "      <th>Test_RMSE</th>\n",
       "      <th>Train_MAE</th>\n",
       "      <th>Test_MAE</th>\n",
       "      <th>best_params</th>\n",
       "    </tr>\n",
       "  </thead>\n",
       "  <tbody>\n",
       "    <tr>\n",
       "      <th>LinearRegression</th>\n",
       "      <td>51.297643</td>\n",
       "      <td>64.807838</td>\n",
       "      <td>41.669887</td>\n",
       "      <td>60.286137</td>\n",
       "      <td>{}</td>\n",
       "    </tr>\n",
       "    <tr>\n",
       "      <th>RandomForestRegressor</th>\n",
       "      <td>21.53599</td>\n",
       "      <td>63.936788</td>\n",
       "      <td>17.000707</td>\n",
       "      <td>59.965986</td>\n",
       "      <td>{'max_depth': 7, 'n_estimators': 35}</td>\n",
       "    </tr>\n",
       "    <tr>\n",
       "      <th>XGBRegressor</th>\n",
       "      <td>58.681109</td>\n",
       "      <td>71.254405</td>\n",
       "      <td>49.275499</td>\n",
       "      <td>62.52594</td>\n",
       "      <td>{'learning_rate': 0.001, 'n_estimators': 310}</td>\n",
       "    </tr>\n",
       "    <tr>\n",
       "      <th>PolynomialFeatures</th>\n",
       "      <td>0.0</td>\n",
       "      <td>411.256903</td>\n",
       "      <td>0.0</td>\n",
       "      <td>268.943187</td>\n",
       "      <td>{'polynomialfeatures__degree': 3}</td>\n",
       "    </tr>\n",
       "  </tbody>\n",
       "</table>\n",
       "</div>"
      ],
      "text/plain": [
       "                      Train_RMSE   Test_RMSE  Train_MAE    Test_MAE  \\\n",
       "LinearRegression       51.297643   64.807838  41.669887   60.286137   \n",
       "RandomForestRegressor   21.53599   63.936788  17.000707   59.965986   \n",
       "XGBRegressor           58.681109   71.254405  49.275499    62.52594   \n",
       "PolynomialFeatures           0.0  411.256903        0.0  268.943187   \n",
       "\n",
       "                                                         best_params  \n",
       "LinearRegression                                                  {}  \n",
       "RandomForestRegressor           {'max_depth': 7, 'n_estimators': 35}  \n",
       "XGBRegressor           {'learning_rate': 0.001, 'n_estimators': 310}  \n",
       "PolynomialFeatures                 {'polynomialfeatures__degree': 3}  "
      ]
     },
     "execution_count": 24,
     "metadata": {},
     "output_type": "execute_result"
    }
   ],
   "source": [
    "model_results,best_reg_model_ours = eval_models()\n",
    "model_results"
   ]
  },
  {
   "cell_type": "code",
   "execution_count": 25,
   "metadata": {},
   "outputs": [
    {
     "name": "stdout",
     "output_type": "stream",
     "text": [
      "RandomForestRegressor(max_depth=7, n_estimators=35, random_state=42)\n"
     ]
    }
   ],
   "source": [
    "print(best_reg_model_ours)"
   ]
  },
  {
   "cell_type": "code",
   "execution_count": 26,
   "metadata": {},
   "outputs": [],
   "source": [
    "y_predicted = best_reg_model_ours.predict(X_test_scaled)"
   ]
  },
  {
   "cell_type": "code",
   "execution_count": 27,
   "metadata": {},
   "outputs": [
    {
     "name": "stdout",
     "output_type": "stream",
     "text": [
      "[276.68571429 307.65714286 243.42857143 302.6        309.71428571\n",
      " 334.19047619 281.48571429]\n"
     ]
    }
   ],
   "source": [
    "print(y_predicted)"
   ]
  },
  {
   "cell_type": "code",
   "execution_count": 28,
   "metadata": {},
   "outputs": [
    {
     "data": {
      "text/html": [
       "<style>#sk-container-id-1 {color: black;}#sk-container-id-1 pre{padding: 0;}#sk-container-id-1 div.sk-toggleable {background-color: white;}#sk-container-id-1 label.sk-toggleable__label {cursor: pointer;display: block;width: 100%;margin-bottom: 0;padding: 0.3em;box-sizing: border-box;text-align: center;}#sk-container-id-1 label.sk-toggleable__label-arrow:before {content: \"▸\";float: left;margin-right: 0.25em;color: #696969;}#sk-container-id-1 label.sk-toggleable__label-arrow:hover:before {color: black;}#sk-container-id-1 div.sk-estimator:hover label.sk-toggleable__label-arrow:before {color: black;}#sk-container-id-1 div.sk-toggleable__content {max-height: 0;max-width: 0;overflow: hidden;text-align: left;background-color: #f0f8ff;}#sk-container-id-1 div.sk-toggleable__content pre {margin: 0.2em;color: black;border-radius: 0.25em;background-color: #f0f8ff;}#sk-container-id-1 input.sk-toggleable__control:checked~div.sk-toggleable__content {max-height: 200px;max-width: 100%;overflow: auto;}#sk-container-id-1 input.sk-toggleable__control:checked~label.sk-toggleable__label-arrow:before {content: \"▾\";}#sk-container-id-1 div.sk-estimator input.sk-toggleable__control:checked~label.sk-toggleable__label {background-color: #d4ebff;}#sk-container-id-1 div.sk-label input.sk-toggleable__control:checked~label.sk-toggleable__label {background-color: #d4ebff;}#sk-container-id-1 input.sk-hidden--visually {border: 0;clip: rect(1px 1px 1px 1px);clip: rect(1px, 1px, 1px, 1px);height: 1px;margin: -1px;overflow: hidden;padding: 0;position: absolute;width: 1px;}#sk-container-id-1 div.sk-estimator {font-family: monospace;background-color: #f0f8ff;border: 1px dotted black;border-radius: 0.25em;box-sizing: border-box;margin-bottom: 0.5em;}#sk-container-id-1 div.sk-estimator:hover {background-color: #d4ebff;}#sk-container-id-1 div.sk-parallel-item::after {content: \"\";width: 100%;border-bottom: 1px solid gray;flex-grow: 1;}#sk-container-id-1 div.sk-label:hover label.sk-toggleable__label {background-color: #d4ebff;}#sk-container-id-1 div.sk-serial::before {content: \"\";position: absolute;border-left: 1px solid gray;box-sizing: border-box;top: 0;bottom: 0;left: 50%;z-index: 0;}#sk-container-id-1 div.sk-serial {display: flex;flex-direction: column;align-items: center;background-color: white;padding-right: 0.2em;padding-left: 0.2em;position: relative;}#sk-container-id-1 div.sk-item {position: relative;z-index: 1;}#sk-container-id-1 div.sk-parallel {display: flex;align-items: stretch;justify-content: center;background-color: white;position: relative;}#sk-container-id-1 div.sk-item::before, #sk-container-id-1 div.sk-parallel-item::before {content: \"\";position: absolute;border-left: 1px solid gray;box-sizing: border-box;top: 0;bottom: 0;left: 50%;z-index: -1;}#sk-container-id-1 div.sk-parallel-item {display: flex;flex-direction: column;z-index: 1;position: relative;background-color: white;}#sk-container-id-1 div.sk-parallel-item:first-child::after {align-self: flex-end;width: 50%;}#sk-container-id-1 div.sk-parallel-item:last-child::after {align-self: flex-start;width: 50%;}#sk-container-id-1 div.sk-parallel-item:only-child::after {width: 0;}#sk-container-id-1 div.sk-dashed-wrapped {border: 1px dashed gray;margin: 0 0.4em 0.5em 0.4em;box-sizing: border-box;padding-bottom: 0.4em;background-color: white;}#sk-container-id-1 div.sk-label label {font-family: monospace;font-weight: bold;display: inline-block;line-height: 1.2em;}#sk-container-id-1 div.sk-label-container {text-align: center;}#sk-container-id-1 div.sk-container {/* jupyter's `normalize.less` sets `[hidden] { display: none; }` but bootstrap.min.css set `[hidden] { display: none !important; }` so we also need the `!important` here to be able to override the default hidden behavior on the sphinx rendered scikit-learn.org. See: https://github.com/scikit-learn/scikit-learn/issues/21755 */display: inline-block !important;position: relative;}#sk-container-id-1 div.sk-text-repr-fallback {display: none;}</style><div id=\"sk-container-id-1\" class=\"sk-top-container\"><div class=\"sk-text-repr-fallback\"><pre>RandomForestRegressor(max_depth=7, n_estimators=35, random_state=42)</pre><b>In a Jupyter environment, please rerun this cell to show the HTML representation or trust the notebook. <br />On GitHub, the HTML representation is unable to render, please try loading this page with nbviewer.org.</b></div><div class=\"sk-container\" hidden><div class=\"sk-item\"><div class=\"sk-estimator sk-toggleable\"><input class=\"sk-toggleable__control sk-hidden--visually\" id=\"sk-estimator-id-1\" type=\"checkbox\" checked><label for=\"sk-estimator-id-1\" class=\"sk-toggleable__label sk-toggleable__label-arrow\">RandomForestRegressor</label><div class=\"sk-toggleable__content\"><pre>RandomForestRegressor(max_depth=7, n_estimators=35, random_state=42)</pre></div></div></div></div></div>"
      ],
      "text/plain": [
       "RandomForestRegressor(max_depth=7, n_estimators=35, random_state=42)"
      ]
     },
     "execution_count": 28,
     "metadata": {},
     "output_type": "execute_result"
    }
   ],
   "source": [
    "classifier=best_reg_model_ours\n",
    "classifier.fit(X_train,y_train)"
   ]
  },
  {
   "cell_type": "code",
   "execution_count": 29,
   "metadata": {},
   "outputs": [],
   "source": [
    "import pickle\n",
    "pickle_out = open(\"runs_inning_1.pkl\",\"wb\")\n",
    "pickle.dump(classifier, pickle_out)\n",
    "pickle_out.close()"
   ]
  }
 ],
 "metadata": {
  "kernelspec": {
   "display_name": "Python 3",
   "language": "python",
   "name": "python3"
  },
  "language_info": {
   "codemirror_mode": {
    "name": "ipython",
    "version": 3
   },
   "file_extension": ".py",
   "mimetype": "text/x-python",
   "name": "python",
   "nbconvert_exporter": "python",
   "pygments_lexer": "ipython3",
   "version": "3.11.1"
  }
 },
 "nbformat": 4,
 "nbformat_minor": 2
}
