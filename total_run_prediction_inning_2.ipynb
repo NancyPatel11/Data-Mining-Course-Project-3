{
 "cells": [
  {
   "cell_type": "code",
   "execution_count": 29,
   "metadata": {},
   "outputs": [],
   "source": [
    "import math\n",
    "import numpy as np\n",
    "import pandas as pd\n",
    "import matplotlib.pyplot as plt\n",
    "import seaborn as sns"
   ]
  },
  {
   "cell_type": "code",
   "execution_count": 30,
   "metadata": {},
   "outputs": [],
   "source": [
    "df = pd.read_csv('match_summary.csv',index_col=0)\n",
    "pd.set_option('display.max_columns', None)"
   ]
  },
  {
   "cell_type": "code",
   "execution_count": 31,
   "metadata": {},
   "outputs": [],
   "source": [
    "df = df[df['innings'] == 2]"
   ]
  },
  {
   "cell_type": "code",
   "execution_count": 32,
   "metadata": {},
   "outputs": [],
   "source": [
    "df = df.reset_index(drop=True)"
   ]
  },
  {
   "cell_type": "code",
   "execution_count": 33,
   "metadata": {},
   "outputs": [
    {
     "data": {
      "text/html": [
       "<div>\n",
       "<style scoped>\n",
       "    .dataframe tbody tr th:only-of-type {\n",
       "        vertical-align: middle;\n",
       "    }\n",
       "\n",
       "    .dataframe tbody tr th {\n",
       "        vertical-align: top;\n",
       "    }\n",
       "\n",
       "    .dataframe thead th {\n",
       "        text-align: right;\n",
       "    }\n",
       "</style>\n",
       "<table border=\"1\" class=\"dataframe\">\n",
       "  <thead>\n",
       "    <tr style=\"text-align: right;\">\n",
       "      <th></th>\n",
       "      <th>venue_x</th>\n",
       "      <th>innings</th>\n",
       "      <th>batting_team</th>\n",
       "      <th>bowling_team</th>\n",
       "      <th>total_runs_per_inning_match</th>\n",
       "      <th>Total_Overs_Played</th>\n",
       "    </tr>\n",
       "  </thead>\n",
       "  <tbody>\n",
       "    <tr>\n",
       "      <th>0</th>\n",
       "      <td>Narendra Modi Stadium, Ahmedabad</td>\n",
       "      <td>2</td>\n",
       "      <td>New Zealand</td>\n",
       "      <td>England</td>\n",
       "      <td>283</td>\n",
       "      <td>36.333333</td>\n",
       "    </tr>\n",
       "    <tr>\n",
       "      <th>1</th>\n",
       "      <td>Rajiv Gandhi International Stadium, Uppal, Hyd...</td>\n",
       "      <td>2</td>\n",
       "      <td>Netherlands</td>\n",
       "      <td>Pakistan</td>\n",
       "      <td>205</td>\n",
       "      <td>41.000000</td>\n",
       "    </tr>\n",
       "    <tr>\n",
       "      <th>2</th>\n",
       "      <td>Himachal Pradesh Cricket Association Stadium, ...</td>\n",
       "      <td>2</td>\n",
       "      <td>Bangladesh</td>\n",
       "      <td>Afghanistan</td>\n",
       "      <td>158</td>\n",
       "      <td>34.666667</td>\n",
       "    </tr>\n",
       "    <tr>\n",
       "      <th>3</th>\n",
       "      <td>Arun Jaitley Stadium, Delhi</td>\n",
       "      <td>2</td>\n",
       "      <td>Sri Lanka</td>\n",
       "      <td>South Africa</td>\n",
       "      <td>326</td>\n",
       "      <td>44.833333</td>\n",
       "    </tr>\n",
       "    <tr>\n",
       "      <th>4</th>\n",
       "      <td>MA Chidambaram Stadium, Chepauk, Chennai</td>\n",
       "      <td>2</td>\n",
       "      <td>India</td>\n",
       "      <td>Australia</td>\n",
       "      <td>201</td>\n",
       "      <td>41.333333</td>\n",
       "    </tr>\n",
       "    <tr>\n",
       "      <th>5</th>\n",
       "      <td>Rajiv Gandhi International Stadium, Uppal, Hyd...</td>\n",
       "      <td>2</td>\n",
       "      <td>Netherlands</td>\n",
       "      <td>New Zealand</td>\n",
       "      <td>223</td>\n",
       "      <td>46.500000</td>\n",
       "    </tr>\n",
       "    <tr>\n",
       "      <th>6</th>\n",
       "      <td>Himachal Pradesh Cricket Association Stadium, ...</td>\n",
       "      <td>2</td>\n",
       "      <td>Bangladesh</td>\n",
       "      <td>England</td>\n",
       "      <td>227</td>\n",
       "      <td>48.333333</td>\n",
       "    </tr>\n",
       "    <tr>\n",
       "      <th>7</th>\n",
       "      <td>Rajiv Gandhi International Stadium, Uppal, Hyd...</td>\n",
       "      <td>2</td>\n",
       "      <td>Pakistan</td>\n",
       "      <td>Sri Lanka</td>\n",
       "      <td>345</td>\n",
       "      <td>48.333333</td>\n",
       "    </tr>\n",
       "    <tr>\n",
       "      <th>8</th>\n",
       "      <td>Arun Jaitley Stadium, Delhi</td>\n",
       "      <td>2</td>\n",
       "      <td>India</td>\n",
       "      <td>Afghanistan</td>\n",
       "      <td>273</td>\n",
       "      <td>35.000000</td>\n",
       "    </tr>\n",
       "    <tr>\n",
       "      <th>9</th>\n",
       "      <td>MA Chidambaram Stadium, Chepauk, Chennai</td>\n",
       "      <td>2</td>\n",
       "      <td>New Zealand</td>\n",
       "      <td>Bangladesh</td>\n",
       "      <td>248</td>\n",
       "      <td>42.833333</td>\n",
       "    </tr>\n",
       "    <tr>\n",
       "      <th>10</th>\n",
       "      <td>Narendra Modi Stadium, Ahmedabad</td>\n",
       "      <td>2</td>\n",
       "      <td>India</td>\n",
       "      <td>Pakistan</td>\n",
       "      <td>192</td>\n",
       "      <td>30.500000</td>\n",
       "    </tr>\n",
       "    <tr>\n",
       "      <th>11</th>\n",
       "      <td>Arun Jaitley Stadium, Delhi</td>\n",
       "      <td>2</td>\n",
       "      <td>England</td>\n",
       "      <td>Afghanistan</td>\n",
       "      <td>215</td>\n",
       "      <td>40.500000</td>\n",
       "    </tr>\n",
       "    <tr>\n",
       "      <th>12</th>\n",
       "      <td>Bharat Ratna Shri Atal Bihari Vajpayee Ekana C...</td>\n",
       "      <td>2</td>\n",
       "      <td>Australia</td>\n",
       "      <td>Sri Lanka</td>\n",
       "      <td>215</td>\n",
       "      <td>35.333333</td>\n",
       "    </tr>\n",
       "    <tr>\n",
       "      <th>13</th>\n",
       "      <td>Himachal Pradesh Cricket Association Stadium, ...</td>\n",
       "      <td>2</td>\n",
       "      <td>South Africa</td>\n",
       "      <td>Netherlands</td>\n",
       "      <td>207</td>\n",
       "      <td>42.833333</td>\n",
       "    </tr>\n",
       "    <tr>\n",
       "      <th>14</th>\n",
       "      <td>MA Chidambaram Stadium, Chepauk, Chennai</td>\n",
       "      <td>2</td>\n",
       "      <td>Afghanistan</td>\n",
       "      <td>New Zealand</td>\n",
       "      <td>139</td>\n",
       "      <td>34.666667</td>\n",
       "    </tr>\n",
       "    <tr>\n",
       "      <th>15</th>\n",
       "      <td>Maharashtra Cricket Association Stadium, Pune</td>\n",
       "      <td>2</td>\n",
       "      <td>India</td>\n",
       "      <td>Bangladesh</td>\n",
       "      <td>261</td>\n",
       "      <td>41.500000</td>\n",
       "    </tr>\n",
       "    <tr>\n",
       "      <th>16</th>\n",
       "      <td>M Chinnaswamy Stadium, Bengaluru</td>\n",
       "      <td>2</td>\n",
       "      <td>Pakistan</td>\n",
       "      <td>Australia</td>\n",
       "      <td>305</td>\n",
       "      <td>45.500000</td>\n",
       "    </tr>\n",
       "    <tr>\n",
       "      <th>17</th>\n",
       "      <td>Bharat Ratna Shri Atal Bihari Vajpayee Ekana C...</td>\n",
       "      <td>2</td>\n",
       "      <td>Sri Lanka</td>\n",
       "      <td>Netherlands</td>\n",
       "      <td>263</td>\n",
       "      <td>48.333333</td>\n",
       "    </tr>\n",
       "    <tr>\n",
       "      <th>18</th>\n",
       "      <td>Wankhede Stadium, Mumbai</td>\n",
       "      <td>2</td>\n",
       "      <td>England</td>\n",
       "      <td>South Africa</td>\n",
       "      <td>170</td>\n",
       "      <td>22.000000</td>\n",
       "    </tr>\n",
       "    <tr>\n",
       "      <th>19</th>\n",
       "      <td>Himachal Pradesh Cricket Association Stadium, ...</td>\n",
       "      <td>2</td>\n",
       "      <td>India</td>\n",
       "      <td>New Zealand</td>\n",
       "      <td>274</td>\n",
       "      <td>48.000000</td>\n",
       "    </tr>\n",
       "    <tr>\n",
       "      <th>20</th>\n",
       "      <td>MA Chidambaram Stadium, Chepauk, Chennai</td>\n",
       "      <td>2</td>\n",
       "      <td>Afghanistan</td>\n",
       "      <td>Pakistan</td>\n",
       "      <td>286</td>\n",
       "      <td>49.000000</td>\n",
       "    </tr>\n",
       "    <tr>\n",
       "      <th>21</th>\n",
       "      <td>Bharat Ratna Shri Atal Bihari Vajpayee Ekana C...</td>\n",
       "      <td>2</td>\n",
       "      <td>Australia</td>\n",
       "      <td>South Africa</td>\n",
       "      <td>177</td>\n",
       "      <td>40.833333</td>\n",
       "    </tr>\n",
       "    <tr>\n",
       "      <th>22</th>\n",
       "      <td>Wankhede Stadium, Mumbai</td>\n",
       "      <td>2</td>\n",
       "      <td>Bangladesh</td>\n",
       "      <td>South Africa</td>\n",
       "      <td>233</td>\n",
       "      <td>46.666667</td>\n",
       "    </tr>\n",
       "    <tr>\n",
       "      <th>23</th>\n",
       "      <td>Arun Jaitley Stadium, Delhi</td>\n",
       "      <td>2</td>\n",
       "      <td>Netherlands</td>\n",
       "      <td>Australia</td>\n",
       "      <td>90</td>\n",
       "      <td>21.000000</td>\n",
       "    </tr>\n",
       "    <tr>\n",
       "      <th>24</th>\n",
       "      <td>M Chinnaswamy Stadium, Bengaluru</td>\n",
       "      <td>2</td>\n",
       "      <td>Sri Lanka</td>\n",
       "      <td>England</td>\n",
       "      <td>160</td>\n",
       "      <td>25.666667</td>\n",
       "    </tr>\n",
       "    <tr>\n",
       "      <th>25</th>\n",
       "      <td>MA Chidambaram Stadium, Chepauk, Chennai</td>\n",
       "      <td>2</td>\n",
       "      <td>South Africa</td>\n",
       "      <td>Pakistan</td>\n",
       "      <td>271</td>\n",
       "      <td>47.333333</td>\n",
       "    </tr>\n",
       "    <tr>\n",
       "      <th>26</th>\n",
       "      <td>Himachal Pradesh Cricket Association Stadium, ...</td>\n",
       "      <td>2</td>\n",
       "      <td>New Zealand</td>\n",
       "      <td>Australia</td>\n",
       "      <td>383</td>\n",
       "      <td>50.000000</td>\n",
       "    </tr>\n",
       "    <tr>\n",
       "      <th>27</th>\n",
       "      <td>Eden Gardens, Kolkata</td>\n",
       "      <td>2</td>\n",
       "      <td>Bangladesh</td>\n",
       "      <td>Netherlands</td>\n",
       "      <td>142</td>\n",
       "      <td>42.333333</td>\n",
       "    </tr>\n",
       "    <tr>\n",
       "      <th>28</th>\n",
       "      <td>Bharat Ratna Shri Atal Bihari Vajpayee Ekana C...</td>\n",
       "      <td>2</td>\n",
       "      <td>England</td>\n",
       "      <td>India</td>\n",
       "      <td>129</td>\n",
       "      <td>34.833333</td>\n",
       "    </tr>\n",
       "    <tr>\n",
       "      <th>29</th>\n",
       "      <td>Maharashtra Cricket Association Stadium, Pune</td>\n",
       "      <td>2</td>\n",
       "      <td>Afghanistan</td>\n",
       "      <td>Sri Lanka</td>\n",
       "      <td>242</td>\n",
       "      <td>45.333333</td>\n",
       "    </tr>\n",
       "    <tr>\n",
       "      <th>30</th>\n",
       "      <td>Eden Gardens, Kolkata</td>\n",
       "      <td>2</td>\n",
       "      <td>Pakistan</td>\n",
       "      <td>Bangladesh</td>\n",
       "      <td>205</td>\n",
       "      <td>32.500000</td>\n",
       "    </tr>\n",
       "    <tr>\n",
       "      <th>31</th>\n",
       "      <td>Maharashtra Cricket Association Stadium, Pune</td>\n",
       "      <td>2</td>\n",
       "      <td>New Zealand</td>\n",
       "      <td>South Africa</td>\n",
       "      <td>167</td>\n",
       "      <td>35.500000</td>\n",
       "    </tr>\n",
       "  </tbody>\n",
       "</table>\n",
       "</div>"
      ],
      "text/plain": [
       "                                              venue_x  innings  batting_team  \\\n",
       "0                    Narendra Modi Stadium, Ahmedabad        2   New Zealand   \n",
       "1   Rajiv Gandhi International Stadium, Uppal, Hyd...        2   Netherlands   \n",
       "2   Himachal Pradesh Cricket Association Stadium, ...        2    Bangladesh   \n",
       "3                         Arun Jaitley Stadium, Delhi        2     Sri Lanka   \n",
       "4            MA Chidambaram Stadium, Chepauk, Chennai        2         India   \n",
       "5   Rajiv Gandhi International Stadium, Uppal, Hyd...        2   Netherlands   \n",
       "6   Himachal Pradesh Cricket Association Stadium, ...        2    Bangladesh   \n",
       "7   Rajiv Gandhi International Stadium, Uppal, Hyd...        2      Pakistan   \n",
       "8                         Arun Jaitley Stadium, Delhi        2         India   \n",
       "9            MA Chidambaram Stadium, Chepauk, Chennai        2   New Zealand   \n",
       "10                   Narendra Modi Stadium, Ahmedabad        2         India   \n",
       "11                        Arun Jaitley Stadium, Delhi        2       England   \n",
       "12  Bharat Ratna Shri Atal Bihari Vajpayee Ekana C...        2     Australia   \n",
       "13  Himachal Pradesh Cricket Association Stadium, ...        2  South Africa   \n",
       "14           MA Chidambaram Stadium, Chepauk, Chennai        2   Afghanistan   \n",
       "15      Maharashtra Cricket Association Stadium, Pune        2         India   \n",
       "16                   M Chinnaswamy Stadium, Bengaluru        2      Pakistan   \n",
       "17  Bharat Ratna Shri Atal Bihari Vajpayee Ekana C...        2     Sri Lanka   \n",
       "18                           Wankhede Stadium, Mumbai        2       England   \n",
       "19  Himachal Pradesh Cricket Association Stadium, ...        2         India   \n",
       "20           MA Chidambaram Stadium, Chepauk, Chennai        2   Afghanistan   \n",
       "21  Bharat Ratna Shri Atal Bihari Vajpayee Ekana C...        2     Australia   \n",
       "22                           Wankhede Stadium, Mumbai        2    Bangladesh   \n",
       "23                        Arun Jaitley Stadium, Delhi        2   Netherlands   \n",
       "24                   M Chinnaswamy Stadium, Bengaluru        2     Sri Lanka   \n",
       "25           MA Chidambaram Stadium, Chepauk, Chennai        2  South Africa   \n",
       "26  Himachal Pradesh Cricket Association Stadium, ...        2   New Zealand   \n",
       "27                              Eden Gardens, Kolkata        2    Bangladesh   \n",
       "28  Bharat Ratna Shri Atal Bihari Vajpayee Ekana C...        2       England   \n",
       "29      Maharashtra Cricket Association Stadium, Pune        2   Afghanistan   \n",
       "30                              Eden Gardens, Kolkata        2      Pakistan   \n",
       "31      Maharashtra Cricket Association Stadium, Pune        2   New Zealand   \n",
       "\n",
       "    bowling_team  total_runs_per_inning_match  Total_Overs_Played  \n",
       "0        England                          283           36.333333  \n",
       "1       Pakistan                          205           41.000000  \n",
       "2    Afghanistan                          158           34.666667  \n",
       "3   South Africa                          326           44.833333  \n",
       "4      Australia                          201           41.333333  \n",
       "5    New Zealand                          223           46.500000  \n",
       "6        England                          227           48.333333  \n",
       "7      Sri Lanka                          345           48.333333  \n",
       "8    Afghanistan                          273           35.000000  \n",
       "9     Bangladesh                          248           42.833333  \n",
       "10      Pakistan                          192           30.500000  \n",
       "11   Afghanistan                          215           40.500000  \n",
       "12     Sri Lanka                          215           35.333333  \n",
       "13   Netherlands                          207           42.833333  \n",
       "14   New Zealand                          139           34.666667  \n",
       "15    Bangladesh                          261           41.500000  \n",
       "16     Australia                          305           45.500000  \n",
       "17   Netherlands                          263           48.333333  \n",
       "18  South Africa                          170           22.000000  \n",
       "19   New Zealand                          274           48.000000  \n",
       "20      Pakistan                          286           49.000000  \n",
       "21  South Africa                          177           40.833333  \n",
       "22  South Africa                          233           46.666667  \n",
       "23     Australia                           90           21.000000  \n",
       "24       England                          160           25.666667  \n",
       "25      Pakistan                          271           47.333333  \n",
       "26     Australia                          383           50.000000  \n",
       "27   Netherlands                          142           42.333333  \n",
       "28         India                          129           34.833333  \n",
       "29     Sri Lanka                          242           45.333333  \n",
       "30    Bangladesh                          205           32.500000  \n",
       "31  South Africa                          167           35.500000  "
      ]
     },
     "execution_count": 33,
     "metadata": {},
     "output_type": "execute_result"
    }
   ],
   "source": [
    "df.head(40)"
   ]
  },
  {
   "cell_type": "code",
   "execution_count": 34,
   "metadata": {},
   "outputs": [],
   "source": [
    "df = df.drop(['innings'],axis='columns')"
   ]
  },
  {
   "cell_type": "code",
   "execution_count": 35,
   "metadata": {},
   "outputs": [
    {
     "data": {
      "text/plain": [
       "(32, 5)"
      ]
     },
     "execution_count": 35,
     "metadata": {},
     "output_type": "execute_result"
    }
   ],
   "source": [
    "df.shape"
   ]
  },
  {
   "cell_type": "code",
   "execution_count": 36,
   "metadata": {},
   "outputs": [
    {
     "data": {
      "text/plain": [
       "Index(['venue_x', 'batting_team', 'bowling_team',\n",
       "       'total_runs_per_inning_match', 'Total_Overs_Played'],\n",
       "      dtype='object')"
      ]
     },
     "execution_count": 36,
     "metadata": {},
     "output_type": "execute_result"
    }
   ],
   "source": [
    "df.columns"
   ]
  },
  {
   "cell_type": "code",
   "execution_count": 37,
   "metadata": {},
   "outputs": [
    {
     "data": {
      "text/plain": [
       "venue_x                         object\n",
       "batting_team                    object\n",
       "bowling_team                    object\n",
       "total_runs_per_inning_match      int64\n",
       "Total_Overs_Played             float64\n",
       "dtype: object"
      ]
     },
     "execution_count": 37,
     "metadata": {},
     "output_type": "execute_result"
    }
   ],
   "source": [
    "df.dtypes"
   ]
  },
  {
   "cell_type": "code",
   "execution_count": 38,
   "metadata": {},
   "outputs": [
    {
     "data": {
      "text/html": [
       "<div>\n",
       "<style scoped>\n",
       "    .dataframe tbody tr th:only-of-type {\n",
       "        vertical-align: middle;\n",
       "    }\n",
       "\n",
       "    .dataframe tbody tr th {\n",
       "        vertical-align: top;\n",
       "    }\n",
       "\n",
       "    .dataframe thead th {\n",
       "        text-align: right;\n",
       "    }\n",
       "</style>\n",
       "<table border=\"1\" class=\"dataframe\">\n",
       "  <thead>\n",
       "    <tr style=\"text-align: right;\">\n",
       "      <th></th>\n",
       "      <th>total_runs_per_inning_match</th>\n",
       "      <th>Total_Overs_Played</th>\n",
       "    </tr>\n",
       "  </thead>\n",
       "  <tbody>\n",
       "    <tr>\n",
       "      <th>count</th>\n",
       "      <td>32.00000</td>\n",
       "      <td>32.000000</td>\n",
       "    </tr>\n",
       "    <tr>\n",
       "      <th>mean</th>\n",
       "      <td>225.46875</td>\n",
       "      <td>39.979167</td>\n",
       "    </tr>\n",
       "    <tr>\n",
       "      <th>std</th>\n",
       "      <td>66.14158</td>\n",
       "      <td>7.837708</td>\n",
       "    </tr>\n",
       "    <tr>\n",
       "      <th>min</th>\n",
       "      <td>90.00000</td>\n",
       "      <td>21.000000</td>\n",
       "    </tr>\n",
       "    <tr>\n",
       "      <th>25%</th>\n",
       "      <td>175.25000</td>\n",
       "      <td>34.958333</td>\n",
       "    </tr>\n",
       "    <tr>\n",
       "      <th>50%</th>\n",
       "      <td>219.00000</td>\n",
       "      <td>41.416667</td>\n",
       "    </tr>\n",
       "    <tr>\n",
       "      <th>75%</th>\n",
       "      <td>271.50000</td>\n",
       "      <td>46.541667</td>\n",
       "    </tr>\n",
       "    <tr>\n",
       "      <th>max</th>\n",
       "      <td>383.00000</td>\n",
       "      <td>50.000000</td>\n",
       "    </tr>\n",
       "  </tbody>\n",
       "</table>\n",
       "</div>"
      ],
      "text/plain": [
       "       total_runs_per_inning_match  Total_Overs_Played\n",
       "count                     32.00000           32.000000\n",
       "mean                     225.46875           39.979167\n",
       "std                       66.14158            7.837708\n",
       "min                       90.00000           21.000000\n",
       "25%                      175.25000           34.958333\n",
       "50%                      219.00000           41.416667\n",
       "75%                      271.50000           46.541667\n",
       "max                      383.00000           50.000000"
      ]
     },
     "execution_count": 38,
     "metadata": {},
     "output_type": "execute_result"
    }
   ],
   "source": [
    "df.describe()"
   ]
  },
  {
   "cell_type": "code",
   "execution_count": 39,
   "metadata": {},
   "outputs": [
    {
     "name": "stdout",
     "output_type": "stream",
     "text": [
      "<class 'pandas.core.frame.DataFrame'>\n",
      "RangeIndex: 32 entries, 0 to 31\n",
      "Data columns (total 5 columns):\n",
      " #   Column                       Non-Null Count  Dtype  \n",
      "---  ------                       --------------  -----  \n",
      " 0   venue_x                      32 non-null     object \n",
      " 1   batting_team                 32 non-null     object \n",
      " 2   bowling_team                 32 non-null     object \n",
      " 3   total_runs_per_inning_match  32 non-null     int64  \n",
      " 4   Total_Overs_Played           32 non-null     float64\n",
      "dtypes: float64(1), int64(1), object(3)\n",
      "memory usage: 1.4+ KB\n"
     ]
    }
   ],
   "source": [
    "df.info()"
   ]
  },
  {
   "cell_type": "code",
   "execution_count": 40,
   "metadata": {},
   "outputs": [
    {
     "data": {
      "text/plain": [
       "venue_x                        0\n",
       "batting_team                   0\n",
       "bowling_team                   0\n",
       "total_runs_per_inning_match    0\n",
       "Total_Overs_Played             0\n",
       "dtype: int64"
      ]
     },
     "execution_count": 40,
     "metadata": {},
     "output_type": "execute_result"
    }
   ],
   "source": [
    "df.isnull().sum()"
   ]
  },
  {
   "cell_type": "code",
   "execution_count": 41,
   "metadata": {},
   "outputs": [
    {
     "data": {
      "text/plain": [
       "venue_x                        10\n",
       "batting_team                   10\n",
       "bowling_team                   10\n",
       "total_runs_per_inning_match    30\n",
       "Total_Overs_Played             28\n",
       "dtype: int64"
      ]
     },
     "execution_count": 41,
     "metadata": {},
     "output_type": "execute_result"
    }
   ],
   "source": [
    "df.nunique()"
   ]
  },
  {
   "cell_type": "code",
   "execution_count": 42,
   "metadata": {},
   "outputs": [
    {
     "data": {
      "text/plain": [
       "['venue_x', 'batting_team', 'bowling_team']"
      ]
     },
     "execution_count": 42,
     "metadata": {},
     "output_type": "execute_result"
    }
   ],
   "source": [
    "cat = [col for col in df if df[col].dtype == 'object']\n",
    "cat"
   ]
  },
  {
   "cell_type": "code",
   "execution_count": 43,
   "metadata": {},
   "outputs": [],
   "source": [
    "from sklearn import preprocessing\n",
    "le = preprocessing.LabelEncoder()"
   ]
  },
  {
   "cell_type": "code",
   "execution_count": 44,
   "metadata": {},
   "outputs": [],
   "source": [
    "mapping = {}\n",
    "\n",
    "for column in cat:\n",
    "    df[column] = le.fit_transform(df[column])\n",
    "    mapping[column] = dict(zip(le.classes_, le.transform(le.classes_)))"
   ]
  },
  {
   "cell_type": "code",
   "execution_count": 45,
   "metadata": {},
   "outputs": [
    {
     "name": "stdout",
     "output_type": "stream",
     "text": [
      "Mapping for column \"venue_x\":\n",
      "Arun Jaitley Stadium, Delhi: 0\n",
      "Bharat Ratna Shri Atal Bihari Vajpayee Ekana Cricket Stadium, Lucknow: 1\n",
      "Eden Gardens, Kolkata: 2\n",
      "Himachal Pradesh Cricket Association Stadium, Dharamsala: 3\n",
      "M Chinnaswamy Stadium, Bengaluru: 4\n",
      "MA Chidambaram Stadium, Chepauk, Chennai: 5\n",
      "Maharashtra Cricket Association Stadium, Pune: 6\n",
      "Narendra Modi Stadium, Ahmedabad: 7\n",
      "Rajiv Gandhi International Stadium, Uppal, Hyderabad: 8\n",
      "Wankhede Stadium, Mumbai: 9\n",
      "\n",
      "Mapping for column \"batting_team\":\n",
      "Afghanistan: 0\n",
      "Australia: 1\n",
      "Bangladesh: 2\n",
      "England: 3\n",
      "India: 4\n",
      "Netherlands: 5\n",
      "New Zealand: 6\n",
      "Pakistan: 7\n",
      "South Africa: 8\n",
      "Sri Lanka: 9\n",
      "\n",
      "Mapping for column \"bowling_team\":\n",
      "Afghanistan: 0\n",
      "Australia: 1\n",
      "Bangladesh: 2\n",
      "England: 3\n",
      "India: 4\n",
      "Netherlands: 5\n",
      "New Zealand: 6\n",
      "Pakistan: 7\n",
      "South Africa: 8\n",
      "Sri Lanka: 9\n",
      "\n"
     ]
    }
   ],
   "source": [
    "for column_name in cat:\n",
    "    print(f'Mapping for column \"{column_name}\":')\n",
    "    for key, value in mapping[column_name].items():\n",
    "        print(f'{key}: {value}')\n",
    "    print()\n"
   ]
  },
  {
   "cell_type": "code",
   "execution_count": 46,
   "metadata": {},
   "outputs": [],
   "source": [
    "from sklearn.model_selection import train_test_split, cross_validate, cross_val_score, GridSearchCV\n",
    "from sklearn.metrics import mean_squared_error, mean_absolute_error\n",
    "\n",
    "# Models-------------------------\n",
    "from sklearn.linear_model import LinearRegression\n",
    "from sklearn.ensemble import RandomForestRegressor\n",
    "from sklearn.preprocessing import PolynomialFeatures\n",
    "from sklearn.pipeline import make_pipeline\n",
    "from xgboost import XGBRegressor\n"
   ]
  },
  {
   "cell_type": "code",
   "execution_count": 47,
   "metadata": {},
   "outputs": [],
   "source": [
    "X = df[['batting_team','bowling_team','venue_x','Total_Overs_Played']]\n",
    "y = df['total_runs_per_inning_match']"
   ]
  },
  {
   "cell_type": "code",
   "execution_count": 48,
   "metadata": {},
   "outputs": [],
   "source": [
    "X_train, X_test, y_train, y_test = train_test_split(X,y, test_size=0.20, shuffle=True)"
   ]
  },
  {
   "cell_type": "code",
   "execution_count": 49,
   "metadata": {},
   "outputs": [
    {
     "name": "stdout",
     "output_type": "stream",
     "text": [
      "    batting_team  bowling_team  venue_x  Total_Overs_Played\n",
      "29             0             9        6           45.333333\n",
      "15             4             2        6           41.500000\n",
      "24             9             3        4           25.666667\n",
      "17             9             5        1           48.333333\n",
      "8              4             0        0           35.000000\n",
      "9              6             2        5           42.833333\n",
      "30             7             2        2           32.500000\n"
     ]
    }
   ],
   "source": [
    "print(X_test)"
   ]
  },
  {
   "cell_type": "code",
   "execution_count": 50,
   "metadata": {},
   "outputs": [
    {
     "data": {
      "text/plain": [
       "((25, 4), (7, 4))"
      ]
     },
     "execution_count": 50,
     "metadata": {},
     "output_type": "execute_result"
    }
   ],
   "source": [
    "size_scaler = preprocessing.StandardScaler().fit(X_train)\n",
    "X_train_scaled = size_scaler.transform(X_train)\n",
    "X_test_scaled = size_scaler.transform(X_test)\n",
    "X_train_scaled.shape, X_test_scaled.shape"
   ]
  },
  {
   "cell_type": "code",
   "execution_count": 51,
   "metadata": {},
   "outputs": [],
   "source": [
    "model_dict = {\n",
    "    'LinearRegression': {\"model\": LinearRegression(), \"params\": {}},\n",
    "    'RandomForestRegressor': {\"model\": RandomForestRegressor(random_state=42),\n",
    "                     \"params\": {'n_estimators': list(range(5, 50, 5)), 'max_depth': list(range(1, 10, 2))}},\n",
    "    # 'XGBRegressor': {\"model\": XGBRegressor(), \"params\": {'n_estimators': list(range(10, 800, 100)), 'learning_rate': [0.001, 0.01, 0.1]}},\n",
    "    'PolynomialFeatures': {\"model\": make_pipeline(PolynomialFeatures(), LinearRegression()),\n",
    "                      \"params\": {'polynomialfeatures__degree': [2,3]}}\n",
    "}\n"
   ]
  },
  {
   "cell_type": "code",
   "execution_count": 52,
   "metadata": {},
   "outputs": [],
   "source": [
    "def eval_models():\n",
    "    model_results = pd.DataFrame()\n",
    "    model_results['Train_RMSE'] = None\n",
    "    model_results['Test_RMSE'] = None\n",
    "    model_results['Train_MAE'] = None\n",
    "    model_results['Test_MAE'] = None\n",
    "    model_results['best_params'] = None\n",
    "    best_test_score = math.inf\n",
    "\n",
    "    for model_name, reg_model in model_dict.items():\n",
    "        classifier = GridSearchCV(reg_model['model'], reg_model['params'], n_jobs=20, verbose=0)\n",
    "        classifier.fit(X_train_scaled, y_train)\n",
    "        best_model = classifier.best_estimator_\n",
    "\n",
    "        y_train_predicted = best_model.predict(X_train_scaled)\n",
    "        train_rmse = np.sqrt(mean_squared_error(y_train, y_train_predicted))\n",
    "        train_mae = mean_absolute_error(y_train, y_train_predicted)\n",
    "\n",
    "        print(model_name, train_rmse, classifier.best_params_)\n",
    "\n",
    "        y_predicted = best_model.predict(X_test_scaled)\n",
    "        test_rmse = np.sqrt(mean_squared_error(y_test, y_predicted))\n",
    "        test_mae = mean_absolute_error(y_test, y_predicted)\n",
    "\n",
    "        if test_rmse < best_test_score:\n",
    "            best_test_score = test_rmse\n",
    "            best_reg_model_ours = best_model\n",
    "\n",
    "        model_results.loc[model_name, ['Train_RMSE', 'Test_RMSE', 'Train_MAE', 'Test_MAE', 'best_params']] = [train_rmse, test_rmse, train_mae, test_mae, classifier.best_params_]\n",
    "\n",
    "    print(\"Best model: \", best_reg_model_ours)\n",
    "    y_predicted = best_reg_model_ours.predict(X_test_scaled)\n",
    "\n",
    "    return model_results,best_reg_model_ours"
   ]
  },
  {
   "cell_type": "code",
   "execution_count": 53,
   "metadata": {},
   "outputs": [
    {
     "name": "stdout",
     "output_type": "stream",
     "text": [
      "LinearRegression 42.52287772975356 {}\n",
      "RandomForestRegressor 19.47416041012864 {'max_depth': 5, 'n_estimators': 40}\n",
      "PolynomialFeatures 1.1211274638365023e-13 {'polynomialfeatures__degree': 3}\n",
      "Best model:  LinearRegression()\n"
     ]
    },
    {
     "data": {
      "text/html": [
       "<div>\n",
       "<style scoped>\n",
       "    .dataframe tbody tr th:only-of-type {\n",
       "        vertical-align: middle;\n",
       "    }\n",
       "\n",
       "    .dataframe tbody tr th {\n",
       "        vertical-align: top;\n",
       "    }\n",
       "\n",
       "    .dataframe thead th {\n",
       "        text-align: right;\n",
       "    }\n",
       "</style>\n",
       "<table border=\"1\" class=\"dataframe\">\n",
       "  <thead>\n",
       "    <tr style=\"text-align: right;\">\n",
       "      <th></th>\n",
       "      <th>Train_RMSE</th>\n",
       "      <th>Test_RMSE</th>\n",
       "      <th>Train_MAE</th>\n",
       "      <th>Test_MAE</th>\n",
       "      <th>best_params</th>\n",
       "    </tr>\n",
       "  </thead>\n",
       "  <tbody>\n",
       "    <tr>\n",
       "      <th>LinearRegression</th>\n",
       "      <td>42.522878</td>\n",
       "      <td>43.172494</td>\n",
       "      <td>36.836441</td>\n",
       "      <td>32.96287</td>\n",
       "      <td>{}</td>\n",
       "    </tr>\n",
       "    <tr>\n",
       "      <th>RandomForestRegressor</th>\n",
       "      <td>19.47416</td>\n",
       "      <td>53.016311</td>\n",
       "      <td>16.006781</td>\n",
       "      <td>38.032143</td>\n",
       "      <td>{'max_depth': 5, 'n_estimators': 40}</td>\n",
       "    </tr>\n",
       "    <tr>\n",
       "      <th>PolynomialFeatures</th>\n",
       "      <td>0.0</td>\n",
       "      <td>70.683933</td>\n",
       "      <td>0.0</td>\n",
       "      <td>61.632682</td>\n",
       "      <td>{'polynomialfeatures__degree': 3}</td>\n",
       "    </tr>\n",
       "  </tbody>\n",
       "</table>\n",
       "</div>"
      ],
      "text/plain": [
       "                      Train_RMSE  Test_RMSE  Train_MAE   Test_MAE  \\\n",
       "LinearRegression       42.522878  43.172494  36.836441   32.96287   \n",
       "RandomForestRegressor   19.47416  53.016311  16.006781  38.032143   \n",
       "PolynomialFeatures           0.0  70.683933        0.0  61.632682   \n",
       "\n",
       "                                                best_params  \n",
       "LinearRegression                                         {}  \n",
       "RandomForestRegressor  {'max_depth': 5, 'n_estimators': 40}  \n",
       "PolynomialFeatures        {'polynomialfeatures__degree': 3}  "
      ]
     },
     "execution_count": 53,
     "metadata": {},
     "output_type": "execute_result"
    }
   ],
   "source": [
    "model_results,best_reg_model_ours = eval_models()\n",
    "model_results"
   ]
  },
  {
   "cell_type": "code",
   "execution_count": 54,
   "metadata": {},
   "outputs": [
    {
     "name": "stdout",
     "output_type": "stream",
     "text": [
      "LinearRegression()\n"
     ]
    }
   ],
   "source": [
    "print(best_reg_model_ours)"
   ]
  },
  {
   "cell_type": "code",
   "execution_count": 55,
   "metadata": {},
   "outputs": [],
   "source": [
    "y_predicted = best_reg_model_ours.predict(X_test_scaled)"
   ]
  },
  {
   "cell_type": "code",
   "execution_count": 56,
   "metadata": {},
   "outputs": [
    {
     "name": "stdout",
     "output_type": "stream",
     "text": [
      "[217.77802516 232.2411935  182.18176531 307.78128678 178.08494556\n",
      " 256.61450782 197.73330857]\n"
     ]
    }
   ],
   "source": [
    "print(y_predicted)"
   ]
  }
 ],
 "metadata": {
  "kernelspec": {
   "display_name": "Python 3",
   "language": "python",
   "name": "python3"
  },
  "language_info": {
   "codemirror_mode": {
    "name": "ipython",
    "version": 3
   },
   "file_extension": ".py",
   "mimetype": "text/x-python",
   "name": "python",
   "nbconvert_exporter": "python",
   "pygments_lexer": "ipython3",
   "version": "3.11.1"
  }
 },
 "nbformat": 4,
 "nbformat_minor": 2
}
