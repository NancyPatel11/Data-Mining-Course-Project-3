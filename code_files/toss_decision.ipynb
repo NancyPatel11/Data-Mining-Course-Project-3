{
 "cells": [
  {
   "cell_type": "markdown",
   "metadata": {},
   "source": [
    "# **Toss Decision Prediction**\n",
    "---"
   ]
  },
  {
   "cell_type": "markdown",
   "metadata": {},
   "source": [
    "## **Importing libraries and setting up the data repository :**"
   ]
  },
  {
   "cell_type": "code",
   "execution_count": 28,
   "metadata": {},
   "outputs": [],
   "source": [
    "import math\n",
    "import numpy as np\n",
    "import pandas as pd\n",
    "import seaborn as sns\n",
    "import matplotlib.pyplot as plt"
   ]
  },
  {
   "cell_type": "code",
   "execution_count": 29,
   "metadata": {},
   "outputs": [],
   "source": [
    "df=pd.read_csv('../csv_files/matches.csv')\n",
    "pd.set_option('display.max_columns', None)"
   ]
  },
  {
   "cell_type": "markdown",
   "metadata": {},
   "source": [
    "## **Exploratory Data Analysis (EDA)**"
   ]
  },
  {
   "cell_type": "markdown",
   "metadata": {},
   "source": [
    "This dataset has 32 rows which shows the data of 32 ODIs"
   ]
  },
  {
   "cell_type": "code",
   "execution_count": 30,
   "metadata": {},
   "outputs": [
    {
     "data": {
      "text/plain": [
       "(32, 18)"
      ]
     },
     "execution_count": 30,
     "metadata": {},
     "output_type": "execute_result"
    }
   ],
   "source": [
    "df.shape"
   ]
  },
  {
   "cell_type": "code",
   "execution_count": 31,
   "metadata": {},
   "outputs": [
    {
     "data": {
      "text/html": [
       "<div>\n",
       "<style scoped>\n",
       "    .dataframe tbody tr th:only-of-type {\n",
       "        vertical-align: middle;\n",
       "    }\n",
       "\n",
       "    .dataframe tbody tr th {\n",
       "        vertical-align: top;\n",
       "    }\n",
       "\n",
       "    .dataframe thead th {\n",
       "        text-align: right;\n",
       "    }\n",
       "</style>\n",
       "<table border=\"1\" class=\"dataframe\">\n",
       "  <thead>\n",
       "    <tr style=\"text-align: right;\">\n",
       "      <th></th>\n",
       "      <th>season</th>\n",
       "      <th>team1</th>\n",
       "      <th>team2</th>\n",
       "      <th>date</th>\n",
       "      <th>match_number</th>\n",
       "      <th>venue</th>\n",
       "      <th>city</th>\n",
       "      <th>toss_winner</th>\n",
       "      <th>toss_decision</th>\n",
       "      <th>player_of_match</th>\n",
       "      <th>umpire1</th>\n",
       "      <th>umpire2</th>\n",
       "      <th>reserve_umpire</th>\n",
       "      <th>match_referee</th>\n",
       "      <th>winner</th>\n",
       "      <th>winner_runs</th>\n",
       "      <th>winner_wickets</th>\n",
       "      <th>match_type</th>\n",
       "    </tr>\n",
       "  </thead>\n",
       "  <tbody>\n",
       "    <tr>\n",
       "      <th>0</th>\n",
       "      <td>2023/24</td>\n",
       "      <td>England</td>\n",
       "      <td>New Zealand</td>\n",
       "      <td>2023/10/05</td>\n",
       "      <td>1</td>\n",
       "      <td>Narendra Modi Stadium</td>\n",
       "      <td>Ahmedabad</td>\n",
       "      <td>New Zealand</td>\n",
       "      <td>field</td>\n",
       "      <td>R Ravindra</td>\n",
       "      <td>HDPK Dharmasena</td>\n",
       "      <td>Nitin Menon</td>\n",
       "      <td>Sharfuddoula</td>\n",
       "      <td>J Srinath</td>\n",
       "      <td>New Zealand</td>\n",
       "      <td>NaN</td>\n",
       "      <td>9.0</td>\n",
       "      <td>Group</td>\n",
       "    </tr>\n",
       "    <tr>\n",
       "      <th>1</th>\n",
       "      <td>2023/24</td>\n",
       "      <td>Pakistan</td>\n",
       "      <td>Netherlands</td>\n",
       "      <td>2023/10/06</td>\n",
       "      <td>2</td>\n",
       "      <td>Rajiv Gandhi International Stadium</td>\n",
       "      <td>Hyderabad</td>\n",
       "      <td>Netherlands</td>\n",
       "      <td>field</td>\n",
       "      <td>Saud Shakeel</td>\n",
       "      <td>AT Holdstock</td>\n",
       "      <td>CM Brown</td>\n",
       "      <td>PR Reiffel</td>\n",
       "      <td>JJ Crowe</td>\n",
       "      <td>Pakistan</td>\n",
       "      <td>81.0</td>\n",
       "      <td>NaN</td>\n",
       "      <td>Group</td>\n",
       "    </tr>\n",
       "    <tr>\n",
       "      <th>2</th>\n",
       "      <td>2023/24</td>\n",
       "      <td>Afghanistan</td>\n",
       "      <td>Bangladesh</td>\n",
       "      <td>2023/10/07</td>\n",
       "      <td>3</td>\n",
       "      <td>Himachal Pradesh Cricket Association Stadium</td>\n",
       "      <td>Dharamsala</td>\n",
       "      <td>Bangladesh</td>\n",
       "      <td>field</td>\n",
       "      <td>Mehedi Hasan Miraz</td>\n",
       "      <td>JS Wilson</td>\n",
       "      <td>HDPK Dharmasena</td>\n",
       "      <td>M Erasmus</td>\n",
       "      <td>AJ Pycroft</td>\n",
       "      <td>Bangladesh</td>\n",
       "      <td>NaN</td>\n",
       "      <td>6.0</td>\n",
       "      <td>Group</td>\n",
       "    </tr>\n",
       "    <tr>\n",
       "      <th>3</th>\n",
       "      <td>2023/24</td>\n",
       "      <td>South Africa</td>\n",
       "      <td>Sri Lanka</td>\n",
       "      <td>2023/10/07</td>\n",
       "      <td>4</td>\n",
       "      <td>Arun Jaitley Stadium</td>\n",
       "      <td>Delhi</td>\n",
       "      <td>Sri Lanka</td>\n",
       "      <td>field</td>\n",
       "      <td>AK Markram</td>\n",
       "      <td>RK Illingworth</td>\n",
       "      <td>Sharfuddoula</td>\n",
       "      <td>AG Wharf</td>\n",
       "      <td>J Srinath</td>\n",
       "      <td>South Africa</td>\n",
       "      <td>102.0</td>\n",
       "      <td>NaN</td>\n",
       "      <td>Group</td>\n",
       "    </tr>\n",
       "    <tr>\n",
       "      <th>4</th>\n",
       "      <td>2023/24</td>\n",
       "      <td>Australia</td>\n",
       "      <td>India</td>\n",
       "      <td>2023/10/08</td>\n",
       "      <td>5</td>\n",
       "      <td>MA Chidambaram Stadium</td>\n",
       "      <td>Chennai</td>\n",
       "      <td>Australia</td>\n",
       "      <td>bat</td>\n",
       "      <td>KL Rahul</td>\n",
       "      <td>CB Gaffaney</td>\n",
       "      <td>RA Kettleborough</td>\n",
       "      <td>AT Holdstock</td>\n",
       "      <td>RB Richardson</td>\n",
       "      <td>India</td>\n",
       "      <td>NaN</td>\n",
       "      <td>6.0</td>\n",
       "      <td>Group</td>\n",
       "    </tr>\n",
       "    <tr>\n",
       "      <th>5</th>\n",
       "      <td>2023/24</td>\n",
       "      <td>New Zealand</td>\n",
       "      <td>Netherlands</td>\n",
       "      <td>2023/10/09</td>\n",
       "      <td>6</td>\n",
       "      <td>Rajiv Gandhi International Stadium</td>\n",
       "      <td>Hyderabad</td>\n",
       "      <td>Netherlands</td>\n",
       "      <td>field</td>\n",
       "      <td>MJ Santner</td>\n",
       "      <td>PR Reiffel</td>\n",
       "      <td>RJ Tucker</td>\n",
       "      <td>Nitin Menon</td>\n",
       "      <td>AJ Pycroft</td>\n",
       "      <td>New Zealand</td>\n",
       "      <td>99.0</td>\n",
       "      <td>NaN</td>\n",
       "      <td>Group</td>\n",
       "    </tr>\n",
       "    <tr>\n",
       "      <th>6</th>\n",
       "      <td>2023/24</td>\n",
       "      <td>England</td>\n",
       "      <td>Bangladesh</td>\n",
       "      <td>2023/10/10</td>\n",
       "      <td>7</td>\n",
       "      <td>Himachal Pradesh Cricket Association Stadium</td>\n",
       "      <td>Dharamsala</td>\n",
       "      <td>Bangladesh</td>\n",
       "      <td>field</td>\n",
       "      <td>DJ Malan</td>\n",
       "      <td>Ahsan Raza</td>\n",
       "      <td>P Wilson</td>\n",
       "      <td>HDPK Dharmasena</td>\n",
       "      <td>J Srinath</td>\n",
       "      <td>England</td>\n",
       "      <td>137.0</td>\n",
       "      <td>NaN</td>\n",
       "      <td>Group</td>\n",
       "    </tr>\n",
       "    <tr>\n",
       "      <th>7</th>\n",
       "      <td>2023/24</td>\n",
       "      <td>Sri Lanka</td>\n",
       "      <td>Pakistan</td>\n",
       "      <td>2023/10/10</td>\n",
       "      <td>8</td>\n",
       "      <td>Rajiv Gandhi International Stadium</td>\n",
       "      <td>Hyderabad</td>\n",
       "      <td>Sri Lanka</td>\n",
       "      <td>bat</td>\n",
       "      <td>Mohammad Rizwan</td>\n",
       "      <td>AG Wharf</td>\n",
       "      <td>CB Gaffaney</td>\n",
       "      <td>RJ Tucker</td>\n",
       "      <td>AJ Pycroft</td>\n",
       "      <td>Pakistan</td>\n",
       "      <td>NaN</td>\n",
       "      <td>6.0</td>\n",
       "      <td>Group</td>\n",
       "    </tr>\n",
       "  </tbody>\n",
       "</table>\n",
       "</div>"
      ],
      "text/plain": [
       "    season         team1        team2        date  match_number  \\\n",
       "0  2023/24       England  New Zealand  2023/10/05             1   \n",
       "1  2023/24      Pakistan  Netherlands  2023/10/06             2   \n",
       "2  2023/24   Afghanistan   Bangladesh  2023/10/07             3   \n",
       "3  2023/24  South Africa    Sri Lanka  2023/10/07             4   \n",
       "4  2023/24     Australia        India  2023/10/08             5   \n",
       "5  2023/24   New Zealand  Netherlands  2023/10/09             6   \n",
       "6  2023/24       England   Bangladesh  2023/10/10             7   \n",
       "7  2023/24     Sri Lanka     Pakistan  2023/10/10             8   \n",
       "\n",
       "                                          venue        city  toss_winner  \\\n",
       "0                         Narendra Modi Stadium   Ahmedabad  New Zealand   \n",
       "1            Rajiv Gandhi International Stadium   Hyderabad  Netherlands   \n",
       "2  Himachal Pradesh Cricket Association Stadium  Dharamsala   Bangladesh   \n",
       "3                          Arun Jaitley Stadium       Delhi    Sri Lanka   \n",
       "4                        MA Chidambaram Stadium     Chennai    Australia   \n",
       "5            Rajiv Gandhi International Stadium   Hyderabad  Netherlands   \n",
       "6  Himachal Pradesh Cricket Association Stadium  Dharamsala   Bangladesh   \n",
       "7            Rajiv Gandhi International Stadium   Hyderabad    Sri Lanka   \n",
       "\n",
       "  toss_decision     player_of_match          umpire1           umpire2  \\\n",
       "0         field          R Ravindra  HDPK Dharmasena       Nitin Menon   \n",
       "1         field        Saud Shakeel     AT Holdstock          CM Brown   \n",
       "2         field  Mehedi Hasan Miraz        JS Wilson   HDPK Dharmasena   \n",
       "3         field          AK Markram   RK Illingworth      Sharfuddoula   \n",
       "4           bat            KL Rahul      CB Gaffaney  RA Kettleborough   \n",
       "5         field          MJ Santner       PR Reiffel         RJ Tucker   \n",
       "6         field            DJ Malan       Ahsan Raza          P Wilson   \n",
       "7           bat     Mohammad Rizwan         AG Wharf       CB Gaffaney   \n",
       "\n",
       "    reserve_umpire  match_referee        winner  winner_runs  winner_wickets  \\\n",
       "0     Sharfuddoula      J Srinath   New Zealand          NaN             9.0   \n",
       "1       PR Reiffel       JJ Crowe      Pakistan         81.0             NaN   \n",
       "2        M Erasmus     AJ Pycroft    Bangladesh          NaN             6.0   \n",
       "3         AG Wharf      J Srinath  South Africa        102.0             NaN   \n",
       "4     AT Holdstock  RB Richardson         India          NaN             6.0   \n",
       "5      Nitin Menon     AJ Pycroft   New Zealand         99.0             NaN   \n",
       "6  HDPK Dharmasena      J Srinath       England        137.0             NaN   \n",
       "7        RJ Tucker     AJ Pycroft      Pakistan          NaN             6.0   \n",
       "\n",
       "  match_type  \n",
       "0      Group  \n",
       "1      Group  \n",
       "2      Group  \n",
       "3      Group  \n",
       "4      Group  \n",
       "5      Group  \n",
       "6      Group  \n",
       "7      Group  "
      ]
     },
     "execution_count": 31,
     "metadata": {},
     "output_type": "execute_result"
    }
   ],
   "source": [
    "df.head(8)"
   ]
  },
  {
   "cell_type": "code",
   "execution_count": 32,
   "metadata": {},
   "outputs": [
    {
     "data": {
      "text/plain": [
       "Index(['season', 'team1', 'team2', 'date', 'match_number', 'venue', 'city',\n",
       "       'toss_winner', 'toss_decision', 'player_of_match', 'umpire1', 'umpire2',\n",
       "       'reserve_umpire', 'match_referee', 'winner', 'winner_runs',\n",
       "       'winner_wickets', 'match_type'],\n",
       "      dtype='object')"
      ]
     },
     "execution_count": 32,
     "metadata": {},
     "output_type": "execute_result"
    }
   ],
   "source": [
    "df.columns"
   ]
  },
  {
   "cell_type": "code",
   "execution_count": 33,
   "metadata": {},
   "outputs": [
    {
     "name": "stdout",
     "output_type": "stream",
     "text": [
      "<class 'pandas.core.frame.DataFrame'>\n",
      "RangeIndex: 32 entries, 0 to 31\n",
      "Data columns (total 18 columns):\n",
      " #   Column           Non-Null Count  Dtype  \n",
      "---  ------           --------------  -----  \n",
      " 0   season           32 non-null     object \n",
      " 1   team1            32 non-null     object \n",
      " 2   team2            32 non-null     object \n",
      " 3   date             32 non-null     object \n",
      " 4   match_number     32 non-null     int64  \n",
      " 5   venue            32 non-null     object \n",
      " 6   city             32 non-null     object \n",
      " 7   toss_winner      32 non-null     object \n",
      " 8   toss_decision    32 non-null     object \n",
      " 9   player_of_match  32 non-null     object \n",
      " 10  umpire1          32 non-null     object \n",
      " 11  umpire2          32 non-null     object \n",
      " 12  reserve_umpire   31 non-null     object \n",
      " 13  match_referee    32 non-null     object \n",
      " 14  winner           32 non-null     object \n",
      " 15  winner_runs      16 non-null     float64\n",
      " 16  winner_wickets   16 non-null     float64\n",
      " 17  match_type       32 non-null     object \n",
      "dtypes: float64(2), int64(1), object(15)\n",
      "memory usage: 4.6+ KB\n"
     ]
    }
   ],
   "source": [
    "df.info()"
   ]
  },
  {
   "cell_type": "code",
   "execution_count": 34,
   "metadata": {},
   "outputs": [
    {
     "data": {
      "text/html": [
       "<div>\n",
       "<style scoped>\n",
       "    .dataframe tbody tr th:only-of-type {\n",
       "        vertical-align: middle;\n",
       "    }\n",
       "\n",
       "    .dataframe tbody tr th {\n",
       "        vertical-align: top;\n",
       "    }\n",
       "\n",
       "    .dataframe thead th {\n",
       "        text-align: right;\n",
       "    }\n",
       "</style>\n",
       "<table border=\"1\" class=\"dataframe\">\n",
       "  <thead>\n",
       "    <tr style=\"text-align: right;\">\n",
       "      <th></th>\n",
       "      <th>match_number</th>\n",
       "      <th>winner_runs</th>\n",
       "      <th>winner_wickets</th>\n",
       "    </tr>\n",
       "  </thead>\n",
       "  <tbody>\n",
       "    <tr>\n",
       "      <th>count</th>\n",
       "      <td>32.000000</td>\n",
       "      <td>16.000000</td>\n",
       "      <td>16.000000</td>\n",
       "    </tr>\n",
       "    <tr>\n",
       "      <th>mean</th>\n",
       "      <td>16.500000</td>\n",
       "      <td>121.250000</td>\n",
       "      <td>6.375000</td>\n",
       "    </tr>\n",
       "    <tr>\n",
       "      <th>std</th>\n",
       "      <td>9.380832</td>\n",
       "      <td>74.981331</td>\n",
       "      <td>1.962142</td>\n",
       "    </tr>\n",
       "    <tr>\n",
       "      <th>min</th>\n",
       "      <td>1.000000</td>\n",
       "      <td>5.000000</td>\n",
       "      <td>1.000000</td>\n",
       "    </tr>\n",
       "    <tr>\n",
       "      <th>25%</th>\n",
       "      <td>8.750000</td>\n",
       "      <td>78.000000</td>\n",
       "      <td>5.750000</td>\n",
       "    </tr>\n",
       "    <tr>\n",
       "      <th>50%</th>\n",
       "      <td>16.500000</td>\n",
       "      <td>101.000000</td>\n",
       "      <td>7.000000</td>\n",
       "    </tr>\n",
       "    <tr>\n",
       "      <th>75%</th>\n",
       "      <td>24.250000</td>\n",
       "      <td>149.000000</td>\n",
       "      <td>8.000000</td>\n",
       "    </tr>\n",
       "    <tr>\n",
       "      <th>max</th>\n",
       "      <td>32.000000</td>\n",
       "      <td>309.000000</td>\n",
       "      <td>9.000000</td>\n",
       "    </tr>\n",
       "  </tbody>\n",
       "</table>\n",
       "</div>"
      ],
      "text/plain": [
       "       match_number  winner_runs  winner_wickets\n",
       "count     32.000000    16.000000       16.000000\n",
       "mean      16.500000   121.250000        6.375000\n",
       "std        9.380832    74.981331        1.962142\n",
       "min        1.000000     5.000000        1.000000\n",
       "25%        8.750000    78.000000        5.750000\n",
       "50%       16.500000   101.000000        7.000000\n",
       "75%       24.250000   149.000000        8.000000\n",
       "max       32.000000   309.000000        9.000000"
      ]
     },
     "execution_count": 34,
     "metadata": {},
     "output_type": "execute_result"
    }
   ],
   "source": [
    "df.describe()"
   ]
  },
  {
   "cell_type": "code",
   "execution_count": 35,
   "metadata": {},
   "outputs": [
    {
     "data": {
      "image/png": "[encoded data removed]",
      "text/plain": [
       "<Figure size 864x432 with 1 Axes>"
      ]
     },
     "metadata": {
      "needs_background": "light"
     },
     "output_type": "display_data"
    }
   ],
   "source": [
    "plt.figure(figsize=(12, 6))\n",
    "sns.countplot(x='toss_winner', hue='toss_decision', data=df)\n",
    "plt.title('Toss Analysis: Decision by Teams')\n",
    "plt.xlabel('Team Winning Toss')\n",
    "plt.ylabel('Number of Matches')\n",
    "plt.show()"
   ]
  },
  {
   "cell_type": "markdown",
   "metadata": {},
   "source": [
    "This graph indicates which teams tend to choose batting or bowling after winning the toss in cricket matches. It provides view of teams' preferences when given the opportunity to decide."
   ]
  },
  {
   "cell_type": "code",
   "execution_count": 36,
   "metadata": {},
   "outputs": [
    {
     "data": {
      "image/png": "[encoded data removed]",
      "text/plain": [
       "<Figure size 720x432 with 1 Axes>"
      ]
     },
     "metadata": {
      "needs_background": "light"
     },
     "output_type": "display_data"
    }
   ],
   "source": [
    "plt.figure(figsize=(10, 6))\n",
    "sns.countplot(x='toss_decision', hue='winner', data=df)\n",
    "plt.title('Toss Decision Based on Teams')\n",
    "plt.xlabel('Toss Decision')\n",
    "plt.ylabel('Number of Matches')\n",
    "plt.show()"
   ]
  },
  {
   "cell_type": "markdown",
   "metadata": {},
   "source": [
    "This plot shows the of teams' toss decision in various matches."
   ]
  },
  {
   "cell_type": "code",
   "execution_count": 37,
   "metadata": {},
   "outputs": [
    {
     "data": {
      "image/png": "[encoded data removed]",
      "text/plain": [
       "<Figure size 576x360 with 1 Axes>"
      ]
     },
     "metadata": {
      "needs_background": "light"
     },
     "output_type": "display_data"
    }
   ],
   "source": [
    "top_players = df['player_of_match'].value_counts().head(10)\n",
    "plt.figure(figsize=(8, 5))\n",
    "sns.barplot(x=top_players.index, y=top_players.values)\n",
    "plt.title('Top Players of the Match')\n",
    "plt.xlabel('Player')\n",
    "plt.ylabel('Number of Player of the Match Awards')\n",
    "plt.xticks(rotation=45)\n",
    "plt.show()"
   ]
  },
  {
   "cell_type": "markdown",
   "metadata": {},
   "source": [
    "This plot shows how many times a player has recieved the 'Player of the match' award."
   ]
  },
  {
   "cell_type": "code",
   "execution_count": 38,
   "metadata": {},
   "outputs": [
    {
     "data": {
      "image/png": "[encoded data removed]",
      "text/plain": [
       "<Figure size 576x432 with 1 Axes>"
      ]
     },
     "metadata": {
      "needs_background": "light"
     },
     "output_type": "display_data"
    }
   ],
   "source": [
    "plt.figure(figsize=(8, 6))\n",
    "sns.countplot(x='winner', data=df, order=df['winner'].value_counts().index, palette='viridis')\n",
    "plt.title('Distribution of Match Outcomes')\n",
    "plt.ylabel('Number of Matches won')\n",
    "plt.xlabel('Teams')\n",
    "plt.show()"
   ]
  },
  {
   "cell_type": "markdown",
   "metadata": {},
   "source": [
    "This figure depicts the distribution of match outcomes, which displays the number of matches won by each team."
   ]
  },
  {
   "cell_type": "markdown",
   "metadata": {},
   "source": [
    "Now, we drop the unnecessary columns which are not important for toss decision prediction task."
   ]
  },
  {
   "cell_type": "code",
   "execution_count": 39,
   "metadata": {},
   "outputs": [
    {
     "data": {
      "text/plain": [
       "(32, 5)"
      ]
     },
     "execution_count": 39,
     "metadata": {},
     "output_type": "execute_result"
    }
   ],
   "source": [
    "df.drop(['season','date', 'match_number','player_of_match', 'umpire1', 'umpire2',\n",
    "       'reserve_umpire', 'match_referee', 'winner', 'winner_runs',\n",
    "       'winner_wickets', 'match_type','city'],axis='columns',inplace=True)\n",
    "\n",
    "df.shape"
   ]
  },
  {
   "cell_type": "code",
   "execution_count": 40,
   "metadata": {},
   "outputs": [
    {
     "data": {
      "text/html": [
       "<div>\n",
       "<style scoped>\n",
       "    .dataframe tbody tr th:only-of-type {\n",
       "        vertical-align: middle;\n",
       "    }\n",
       "\n",
       "    .dataframe tbody tr th {\n",
       "        vertical-align: top;\n",
       "    }\n",
       "\n",
       "    .dataframe thead th {\n",
       "        text-align: right;\n",
       "    }\n",
       "</style>\n",
       "<table border=\"1\" class=\"dataframe\">\n",
       "  <thead>\n",
       "    <tr style=\"text-align: right;\">\n",
       "      <th></th>\n",
       "      <th>team1</th>\n",
       "      <th>team2</th>\n",
       "      <th>venue</th>\n",
       "      <th>toss_winner</th>\n",
       "      <th>toss_decision</th>\n",
       "    </tr>\n",
       "  </thead>\n",
       "  <tbody>\n",
       "    <tr>\n",
       "      <th>0</th>\n",
       "      <td>England</td>\n",
       "      <td>New Zealand</td>\n",
       "      <td>Narendra Modi Stadium</td>\n",
       "      <td>New Zealand</td>\n",
       "      <td>field</td>\n",
       "    </tr>\n",
       "    <tr>\n",
       "      <th>1</th>\n",
       "      <td>Pakistan</td>\n",
       "      <td>Netherlands</td>\n",
       "      <td>Rajiv Gandhi International Stadium</td>\n",
       "      <td>Netherlands</td>\n",
       "      <td>field</td>\n",
       "    </tr>\n",
       "    <tr>\n",
       "      <th>2</th>\n",
       "      <td>Afghanistan</td>\n",
       "      <td>Bangladesh</td>\n",
       "      <td>Himachal Pradesh Cricket Association Stadium</td>\n",
       "      <td>Bangladesh</td>\n",
       "      <td>field</td>\n",
       "    </tr>\n",
       "    <tr>\n",
       "      <th>3</th>\n",
       "      <td>South Africa</td>\n",
       "      <td>Sri Lanka</td>\n",
       "      <td>Arun Jaitley Stadium</td>\n",
       "      <td>Sri Lanka</td>\n",
       "      <td>field</td>\n",
       "    </tr>\n",
       "    <tr>\n",
       "      <th>4</th>\n",
       "      <td>Australia</td>\n",
       "      <td>India</td>\n",
       "      <td>MA Chidambaram Stadium</td>\n",
       "      <td>Australia</td>\n",
       "      <td>bat</td>\n",
       "    </tr>\n",
       "  </tbody>\n",
       "</table>\n",
       "</div>"
      ],
      "text/plain": [
       "          team1        team2                                         venue  \\\n",
       "0       England  New Zealand                         Narendra Modi Stadium   \n",
       "1      Pakistan  Netherlands            Rajiv Gandhi International Stadium   \n",
       "2   Afghanistan   Bangladesh  Himachal Pradesh Cricket Association Stadium   \n",
       "3  South Africa    Sri Lanka                          Arun Jaitley Stadium   \n",
       "4     Australia        India                        MA Chidambaram Stadium   \n",
       "\n",
       "   toss_winner toss_decision  \n",
       "0  New Zealand         field  \n",
       "1  Netherlands         field  \n",
       "2   Bangladesh         field  \n",
       "3    Sri Lanka         field  \n",
       "4    Australia           bat  "
      ]
     },
     "execution_count": 40,
     "metadata": {},
     "output_type": "execute_result"
    }
   ],
   "source": [
    "df.head()"
   ]
  },
  {
   "cell_type": "code",
   "execution_count": 41,
   "metadata": {},
   "outputs": [
    {
     "name": "stdout",
     "output_type": "stream",
     "text": [
      "team1: ['England' 'Pakistan' 'Afghanistan' 'South Africa' 'Australia'\n",
      " 'New Zealand' 'Sri Lanka' 'Bangladesh' 'Netherlands' 'India']\n",
      "team2: ['New Zealand' 'Netherlands' 'Bangladesh' 'Sri Lanka' 'India' 'Pakistan'\n",
      " 'Australia' 'England' 'South Africa' 'Afghanistan']\n",
      "venue: ['Narendra Modi Stadium' 'Rajiv Gandhi International Stadium'\n",
      " 'Himachal Pradesh Cricket Association Stadium' 'Arun Jaitley Stadium'\n",
      " 'MA Chidambaram Stadium'\n",
      " 'Bharat Ratna Shri Atal Bihari Vajpayee Ekana Cricket Stadium'\n",
      " 'Maharashtra Cricket Association Stadium' 'M Chinnaswamy Stadium'\n",
      " 'Wankhede Stadium' 'Eden Gardens']\n",
      "toss_winner: ['New Zealand' 'Netherlands' 'Bangladesh' 'Sri Lanka' 'Australia'\n",
      " 'Afghanistan' 'India' 'England' 'South Africa' 'Pakistan']\n",
      "toss_decision: ['field' 'bat']\n"
     ]
    }
   ],
   "source": [
    "for column in df.columns:\n",
    "    print(f'{column}: {df[column].unique()}')"
   ]
  },
  {
   "cell_type": "markdown",
   "metadata": {},
   "source": [
    "# **Label Encoding :**"
   ]
  },
  {
   "cell_type": "code",
   "execution_count": 42,
   "metadata": {},
   "outputs": [],
   "source": [
    "from sklearn.preprocessing import LabelEncoder"
   ]
  },
  {
   "cell_type": "code",
   "execution_count": 43,
   "metadata": {},
   "outputs": [
    {
     "data": {
      "text/plain": [
       "{'team1': {'Afghanistan': 0,\n",
       "  'Australia': 1,\n",
       "  'Bangladesh': 2,\n",
       "  'England': 3,\n",
       "  'India': 4,\n",
       "  'Netherlands': 5,\n",
       "  'New Zealand': 6,\n",
       "  'Pakistan': 7,\n",
       "  'South Africa': 8,\n",
       "  'Sri Lanka': 9},\n",
       " 'team2': {'Afghanistan': 0,\n",
       "  'Australia': 1,\n",
       "  'Bangladesh': 2,\n",
       "  'England': 3,\n",
       "  'India': 4,\n",
       "  'Netherlands': 5,\n",
       "  'New Zealand': 6,\n",
       "  'Pakistan': 7,\n",
       "  'South Africa': 8,\n",
       "  'Sri Lanka': 9},\n",
       " 'venue': {'Arun Jaitley Stadium': 0,\n",
       "  'Bharat Ratna Shri Atal Bihari Vajpayee Ekana Cricket Stadium': 1,\n",
       "  'Eden Gardens': 2,\n",
       "  'Himachal Pradesh Cricket Association Stadium': 3,\n",
       "  'M Chinnaswamy Stadium': 4,\n",
       "  'MA Chidambaram Stadium': 5,\n",
       "  'Maharashtra Cricket Association Stadium': 6,\n",
       "  'Narendra Modi Stadium': 7,\n",
       "  'Rajiv Gandhi International Stadium': 8,\n",
       "  'Wankhede Stadium': 9},\n",
       " 'toss_winner': {'Afghanistan': 0,\n",
       "  'Australia': 1,\n",
       "  'Bangladesh': 2,\n",
       "  'England': 3,\n",
       "  'India': 4,\n",
       "  'Netherlands': 5,\n",
       "  'New Zealand': 6,\n",
       "  'Pakistan': 7,\n",
       "  'South Africa': 8,\n",
       "  'Sri Lanka': 9},\n",
       " 'toss_decision': {'bat': 0, 'field': 1}}"
      ]
     },
     "execution_count": 43,
     "metadata": {},
     "output_type": "execute_result"
    }
   ],
   "source": [
    "le=LabelEncoder()\n",
    "toss_mapping = {}\n",
    "\n",
    "for column in df.columns:\n",
    "    df[column] = le.fit_transform(df[column])\n",
    "    toss_mapping[column] = dict(zip(le.classes_, le.transform(le.classes_)))\n",
    "\n",
    "toss_mapping"
   ]
  },
  {
   "cell_type": "markdown",
   "metadata": {},
   "source": [
    "### **Model Tarining and Testing :**"
   ]
  },
  {
   "cell_type": "code",
   "execution_count": 44,
   "metadata": {},
   "outputs": [],
   "source": [
    "X=df.drop('toss_decision',axis='columns')\n",
    "y=df['toss_decision']"
   ]
  },
  {
   "cell_type": "code",
   "execution_count": 45,
   "metadata": {},
   "outputs": [],
   "source": [
    "from sklearn.model_selection import train_test_split\n",
    "\n",
    "X_train, X_test, y_train, y_test = train_test_split(X, y, test_size = 0.3, random_state = 42,shuffle=True)"
   ]
  },
  {
   "cell_type": "code",
   "execution_count": 46,
   "metadata": {},
   "outputs": [],
   "source": [
    "from sklearn.metrics import accuracy_score\n",
    "from sklearn.ensemble import RandomForestClassifier\n",
    "from sklearn.svm import SVC\n",
    "from sklearn.linear_model import LogisticRegression"
   ]
  },
  {
   "cell_type": "code",
   "execution_count": 47,
   "metadata": {},
   "outputs": [],
   "source": [
    "ensembled_classifier=RandomForestClassifier(random_state=42)"
   ]
  },
  {
   "cell_type": "code",
   "execution_count": 48,
   "metadata": {},
   "outputs": [
    {
     "data": {
      "text/plain": [
       "0.5"
      ]
     },
     "execution_count": 48,
     "metadata": {},
     "output_type": "execute_result"
    }
   ],
   "source": [
    "ensembled_classifier.fit(X_train,y_train)\n",
    "y_pred=ensembled_classifier.predict(X_test)\n",
    "acc=accuracy_score(y_pred,y_test)\n",
    "acc"
   ]
  },
  {
   "cell_type": "markdown",
   "metadata": {},
   "source": [
    "(Random Forest Classifier) Accuracy : 0.5"
   ]
  },
  {
   "cell_type": "code",
   "execution_count": 49,
   "metadata": {},
   "outputs": [
    {
     "data": {
      "text/plain": [
       "0.8"
      ]
     },
     "execution_count": 49,
     "metadata": {},
     "output_type": "execute_result"
    }
   ],
   "source": [
    "svc=SVC()\n",
    "svc.fit(X_train,y_train)\n",
    "y_pred=svc.predict(X_test)\n",
    "acc=accuracy_score(y_pred,y_test)\n",
    "acc"
   ]
  },
  {
   "cell_type": "markdown",
   "metadata": {},
   "source": [
    "(Support Vector Machine) Accuracy : 0.8"
   ]
  },
  {
   "cell_type": "code",
   "execution_count": 50,
   "metadata": {},
   "outputs": [
    {
     "data": {
      "text/plain": [
       "0.4"
      ]
     },
     "execution_count": 50,
     "metadata": {},
     "output_type": "execute_result"
    }
   ],
   "source": [
    "lr=LogisticRegression()\n",
    "lr.fit(X_train,y_train)\n",
    "y_pred=lr.predict(X_test)\n",
    "acc=accuracy_score(y_pred,y_test)\n",
    "acc"
   ]
  },
  {
   "cell_type": "markdown",
   "metadata": {},
   "source": [
    "(Logistic Regression) Accuracy : 0.4"
   ]
  },
  {
   "cell_type": "code",
   "execution_count": 51,
   "metadata": {},
   "outputs": [
    {
     "data": {
      "text/plain": [
       "0.90625"
      ]
     },
     "execution_count": 51,
     "metadata": {},
     "output_type": "execute_result"
    }
   ],
   "source": [
    "svc=SVC()\n",
    "svc.fit(X,y)\n",
    "y_pred=svc.predict(X)\n",
    "acc=accuracy_score(y_pred,y)\n",
    "acc"
   ]
  },
  {
   "cell_type": "markdown",
   "metadata": {},
   "source": [
    "(Support Vector Machine) Accuracy : 0.90625"
   ]
  },
  {
   "cell_type": "code",
   "execution_count": 52,
   "metadata": {},
   "outputs": [],
   "source": [
    "import pickle\n",
    "pickle_out = open(\"../pickle_files/toss_decision.pkl\",\"wb\")\n",
    "pickle.dump(svc, pickle_out)\n",
    "pickle_out.close()"
   ]
  }
 ],
 "metadata": {
  "kernelspec": {
   "display_name": "Python 3",
   "language": "python",
   "name": "python3"
  },
  "language_info": {
   "codemirror_mode": {
    "name": "ipython",
    "version": 3
   },
   "file_extension": ".py",
   "mimetype": "text/x-python",
   "name": "python",
   "nbconvert_exporter": "python",
   "pygments_lexer": "ipython3",
   "version": "3.8.5"
  }
 },
 "nbformat": 4,
 "nbformat_minor": 2
}
