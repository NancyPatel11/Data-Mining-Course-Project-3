{
 "cells": [
  {
   "cell_type": "code",
   "execution_count": 59,
   "metadata": {},
   "outputs": [],
   "source": [
    "import math\n",
    "import numpy as np\n",
    "import pandas as pd\n",
    "import matplotlib.pyplot as plt\n",
    "import seaborn as sns"
   ]
  },
  {
   "cell_type": "code",
   "execution_count": 60,
   "metadata": {},
   "outputs": [],
   "source": [
    "df = pd.read_csv('match_summary.csv',index_col=0)\n",
    "pd.set_option('display.max_columns', None)"
   ]
  },
  {
   "cell_type": "code",
   "execution_count": 61,
   "metadata": {},
   "outputs": [],
   "source": [
    "df = df.reset_index(drop=True)"
   ]
  },
  {
   "cell_type": "code",
   "execution_count": 62,
   "metadata": {},
   "outputs": [
    {
     "data": {
      "text/html": [
       "<div>\n",
       "<style scoped>\n",
       "    .dataframe tbody tr th:only-of-type {\n",
       "        vertical-align: middle;\n",
       "    }\n",
       "\n",
       "    .dataframe tbody tr th {\n",
       "        vertical-align: top;\n",
       "    }\n",
       "\n",
       "    .dataframe thead th {\n",
       "        text-align: right;\n",
       "    }\n",
       "</style>\n",
       "<table border=\"1\" class=\"dataframe\">\n",
       "  <thead>\n",
       "    <tr style=\"text-align: right;\">\n",
       "      <th></th>\n",
       "      <th>venue_x</th>\n",
       "      <th>innings</th>\n",
       "      <th>batting_team</th>\n",
       "      <th>bowling_team</th>\n",
       "      <th>total_runs_per_inning_match</th>\n",
       "      <th>Total_Overs_Played</th>\n",
       "    </tr>\n",
       "  </thead>\n",
       "  <tbody>\n",
       "    <tr>\n",
       "      <th>0</th>\n",
       "      <td>Narendra Modi Stadium, Ahmedabad</td>\n",
       "      <td>1</td>\n",
       "      <td>England</td>\n",
       "      <td>New Zealand</td>\n",
       "      <td>282</td>\n",
       "      <td>50.000000</td>\n",
       "    </tr>\n",
       "    <tr>\n",
       "      <th>1</th>\n",
       "      <td>Narendra Modi Stadium, Ahmedabad</td>\n",
       "      <td>2</td>\n",
       "      <td>New Zealand</td>\n",
       "      <td>England</td>\n",
       "      <td>283</td>\n",
       "      <td>36.333333</td>\n",
       "    </tr>\n",
       "    <tr>\n",
       "      <th>2</th>\n",
       "      <td>Rajiv Gandhi International Stadium, Uppal, Hyd...</td>\n",
       "      <td>1</td>\n",
       "      <td>Pakistan</td>\n",
       "      <td>Netherlands</td>\n",
       "      <td>286</td>\n",
       "      <td>48.833333</td>\n",
       "    </tr>\n",
       "    <tr>\n",
       "      <th>3</th>\n",
       "      <td>Rajiv Gandhi International Stadium, Uppal, Hyd...</td>\n",
       "      <td>2</td>\n",
       "      <td>Netherlands</td>\n",
       "      <td>Pakistan</td>\n",
       "      <td>205</td>\n",
       "      <td>41.000000</td>\n",
       "    </tr>\n",
       "    <tr>\n",
       "      <th>4</th>\n",
       "      <td>Himachal Pradesh Cricket Association Stadium, ...</td>\n",
       "      <td>1</td>\n",
       "      <td>Afghanistan</td>\n",
       "      <td>Bangladesh</td>\n",
       "      <td>156</td>\n",
       "      <td>37.333333</td>\n",
       "    </tr>\n",
       "    <tr>\n",
       "      <th>5</th>\n",
       "      <td>Himachal Pradesh Cricket Association Stadium, ...</td>\n",
       "      <td>2</td>\n",
       "      <td>Bangladesh</td>\n",
       "      <td>Afghanistan</td>\n",
       "      <td>158</td>\n",
       "      <td>34.666667</td>\n",
       "    </tr>\n",
       "    <tr>\n",
       "      <th>6</th>\n",
       "      <td>Arun Jaitley Stadium, Delhi</td>\n",
       "      <td>1</td>\n",
       "      <td>South Africa</td>\n",
       "      <td>Sri Lanka</td>\n",
       "      <td>428</td>\n",
       "      <td>50.000000</td>\n",
       "    </tr>\n",
       "    <tr>\n",
       "      <th>7</th>\n",
       "      <td>Arun Jaitley Stadium, Delhi</td>\n",
       "      <td>2</td>\n",
       "      <td>Sri Lanka</td>\n",
       "      <td>South Africa</td>\n",
       "      <td>326</td>\n",
       "      <td>44.833333</td>\n",
       "    </tr>\n",
       "    <tr>\n",
       "      <th>8</th>\n",
       "      <td>MA Chidambaram Stadium, Chepauk, Chennai</td>\n",
       "      <td>1</td>\n",
       "      <td>Australia</td>\n",
       "      <td>India</td>\n",
       "      <td>199</td>\n",
       "      <td>49.500000</td>\n",
       "    </tr>\n",
       "    <tr>\n",
       "      <th>9</th>\n",
       "      <td>MA Chidambaram Stadium, Chepauk, Chennai</td>\n",
       "      <td>2</td>\n",
       "      <td>India</td>\n",
       "      <td>Australia</td>\n",
       "      <td>201</td>\n",
       "      <td>41.333333</td>\n",
       "    </tr>\n",
       "    <tr>\n",
       "      <th>10</th>\n",
       "      <td>Rajiv Gandhi International Stadium, Uppal, Hyd...</td>\n",
       "      <td>1</td>\n",
       "      <td>New Zealand</td>\n",
       "      <td>Netherlands</td>\n",
       "      <td>322</td>\n",
       "      <td>50.000000</td>\n",
       "    </tr>\n",
       "    <tr>\n",
       "      <th>11</th>\n",
       "      <td>Rajiv Gandhi International Stadium, Uppal, Hyd...</td>\n",
       "      <td>2</td>\n",
       "      <td>Netherlands</td>\n",
       "      <td>New Zealand</td>\n",
       "      <td>223</td>\n",
       "      <td>46.500000</td>\n",
       "    </tr>\n",
       "    <tr>\n",
       "      <th>12</th>\n",
       "      <td>Himachal Pradesh Cricket Association Stadium, ...</td>\n",
       "      <td>1</td>\n",
       "      <td>England</td>\n",
       "      <td>Bangladesh</td>\n",
       "      <td>364</td>\n",
       "      <td>50.000000</td>\n",
       "    </tr>\n",
       "    <tr>\n",
       "      <th>13</th>\n",
       "      <td>Himachal Pradesh Cricket Association Stadium, ...</td>\n",
       "      <td>2</td>\n",
       "      <td>Bangladesh</td>\n",
       "      <td>England</td>\n",
       "      <td>227</td>\n",
       "      <td>48.333333</td>\n",
       "    </tr>\n",
       "    <tr>\n",
       "      <th>14</th>\n",
       "      <td>Rajiv Gandhi International Stadium, Uppal, Hyd...</td>\n",
       "      <td>1</td>\n",
       "      <td>Sri Lanka</td>\n",
       "      <td>Pakistan</td>\n",
       "      <td>344</td>\n",
       "      <td>50.000000</td>\n",
       "    </tr>\n",
       "    <tr>\n",
       "      <th>15</th>\n",
       "      <td>Rajiv Gandhi International Stadium, Uppal, Hyd...</td>\n",
       "      <td>2</td>\n",
       "      <td>Pakistan</td>\n",
       "      <td>Sri Lanka</td>\n",
       "      <td>345</td>\n",
       "      <td>48.333333</td>\n",
       "    </tr>\n",
       "    <tr>\n",
       "      <th>16</th>\n",
       "      <td>Arun Jaitley Stadium, Delhi</td>\n",
       "      <td>1</td>\n",
       "      <td>Afghanistan</td>\n",
       "      <td>India</td>\n",
       "      <td>272</td>\n",
       "      <td>50.000000</td>\n",
       "    </tr>\n",
       "    <tr>\n",
       "      <th>17</th>\n",
       "      <td>Arun Jaitley Stadium, Delhi</td>\n",
       "      <td>2</td>\n",
       "      <td>India</td>\n",
       "      <td>Afghanistan</td>\n",
       "      <td>273</td>\n",
       "      <td>35.000000</td>\n",
       "    </tr>\n",
       "    <tr>\n",
       "      <th>18</th>\n",
       "      <td>MA Chidambaram Stadium, Chepauk, Chennai</td>\n",
       "      <td>1</td>\n",
       "      <td>Bangladesh</td>\n",
       "      <td>New Zealand</td>\n",
       "      <td>245</td>\n",
       "      <td>50.000000</td>\n",
       "    </tr>\n",
       "    <tr>\n",
       "      <th>19</th>\n",
       "      <td>MA Chidambaram Stadium, Chepauk, Chennai</td>\n",
       "      <td>2</td>\n",
       "      <td>New Zealand</td>\n",
       "      <td>Bangladesh</td>\n",
       "      <td>248</td>\n",
       "      <td>42.833333</td>\n",
       "    </tr>\n",
       "    <tr>\n",
       "      <th>20</th>\n",
       "      <td>Narendra Modi Stadium, Ahmedabad</td>\n",
       "      <td>1</td>\n",
       "      <td>Pakistan</td>\n",
       "      <td>India</td>\n",
       "      <td>191</td>\n",
       "      <td>42.833333</td>\n",
       "    </tr>\n",
       "    <tr>\n",
       "      <th>21</th>\n",
       "      <td>Narendra Modi Stadium, Ahmedabad</td>\n",
       "      <td>2</td>\n",
       "      <td>India</td>\n",
       "      <td>Pakistan</td>\n",
       "      <td>192</td>\n",
       "      <td>30.500000</td>\n",
       "    </tr>\n",
       "    <tr>\n",
       "      <th>22</th>\n",
       "      <td>Arun Jaitley Stadium, Delhi</td>\n",
       "      <td>1</td>\n",
       "      <td>Afghanistan</td>\n",
       "      <td>England</td>\n",
       "      <td>284</td>\n",
       "      <td>49.833333</td>\n",
       "    </tr>\n",
       "    <tr>\n",
       "      <th>23</th>\n",
       "      <td>Arun Jaitley Stadium, Delhi</td>\n",
       "      <td>2</td>\n",
       "      <td>England</td>\n",
       "      <td>Afghanistan</td>\n",
       "      <td>215</td>\n",
       "      <td>40.500000</td>\n",
       "    </tr>\n",
       "    <tr>\n",
       "      <th>24</th>\n",
       "      <td>Bharat Ratna Shri Atal Bihari Vajpayee Ekana C...</td>\n",
       "      <td>1</td>\n",
       "      <td>Sri Lanka</td>\n",
       "      <td>Australia</td>\n",
       "      <td>209</td>\n",
       "      <td>43.500000</td>\n",
       "    </tr>\n",
       "    <tr>\n",
       "      <th>25</th>\n",
       "      <td>Bharat Ratna Shri Atal Bihari Vajpayee Ekana C...</td>\n",
       "      <td>2</td>\n",
       "      <td>Australia</td>\n",
       "      <td>Sri Lanka</td>\n",
       "      <td>215</td>\n",
       "      <td>35.333333</td>\n",
       "    </tr>\n",
       "    <tr>\n",
       "      <th>26</th>\n",
       "      <td>Himachal Pradesh Cricket Association Stadium, ...</td>\n",
       "      <td>1</td>\n",
       "      <td>Netherlands</td>\n",
       "      <td>South Africa</td>\n",
       "      <td>245</td>\n",
       "      <td>43.000000</td>\n",
       "    </tr>\n",
       "    <tr>\n",
       "      <th>27</th>\n",
       "      <td>Himachal Pradesh Cricket Association Stadium, ...</td>\n",
       "      <td>2</td>\n",
       "      <td>South Africa</td>\n",
       "      <td>Netherlands</td>\n",
       "      <td>207</td>\n",
       "      <td>42.833333</td>\n",
       "    </tr>\n",
       "    <tr>\n",
       "      <th>28</th>\n",
       "      <td>MA Chidambaram Stadium, Chepauk, Chennai</td>\n",
       "      <td>1</td>\n",
       "      <td>New Zealand</td>\n",
       "      <td>Afghanistan</td>\n",
       "      <td>288</td>\n",
       "      <td>50.000000</td>\n",
       "    </tr>\n",
       "    <tr>\n",
       "      <th>29</th>\n",
       "      <td>MA Chidambaram Stadium, Chepauk, Chennai</td>\n",
       "      <td>2</td>\n",
       "      <td>Afghanistan</td>\n",
       "      <td>New Zealand</td>\n",
       "      <td>139</td>\n",
       "      <td>34.666667</td>\n",
       "    </tr>\n",
       "    <tr>\n",
       "      <th>30</th>\n",
       "      <td>Maharashtra Cricket Association Stadium, Pune</td>\n",
       "      <td>1</td>\n",
       "      <td>Bangladesh</td>\n",
       "      <td>India</td>\n",
       "      <td>256</td>\n",
       "      <td>50.000000</td>\n",
       "    </tr>\n",
       "    <tr>\n",
       "      <th>31</th>\n",
       "      <td>Maharashtra Cricket Association Stadium, Pune</td>\n",
       "      <td>2</td>\n",
       "      <td>India</td>\n",
       "      <td>Bangladesh</td>\n",
       "      <td>261</td>\n",
       "      <td>41.500000</td>\n",
       "    </tr>\n",
       "    <tr>\n",
       "      <th>32</th>\n",
       "      <td>M Chinnaswamy Stadium, Bengaluru</td>\n",
       "      <td>1</td>\n",
       "      <td>Australia</td>\n",
       "      <td>Pakistan</td>\n",
       "      <td>367</td>\n",
       "      <td>50.000000</td>\n",
       "    </tr>\n",
       "    <tr>\n",
       "      <th>33</th>\n",
       "      <td>M Chinnaswamy Stadium, Bengaluru</td>\n",
       "      <td>2</td>\n",
       "      <td>Pakistan</td>\n",
       "      <td>Australia</td>\n",
       "      <td>305</td>\n",
       "      <td>45.500000</td>\n",
       "    </tr>\n",
       "    <tr>\n",
       "      <th>34</th>\n",
       "      <td>Bharat Ratna Shri Atal Bihari Vajpayee Ekana C...</td>\n",
       "      <td>1</td>\n",
       "      <td>Netherlands</td>\n",
       "      <td>Sri Lanka</td>\n",
       "      <td>262</td>\n",
       "      <td>49.666667</td>\n",
       "    </tr>\n",
       "    <tr>\n",
       "      <th>35</th>\n",
       "      <td>Bharat Ratna Shri Atal Bihari Vajpayee Ekana C...</td>\n",
       "      <td>2</td>\n",
       "      <td>Sri Lanka</td>\n",
       "      <td>Netherlands</td>\n",
       "      <td>263</td>\n",
       "      <td>48.333333</td>\n",
       "    </tr>\n",
       "    <tr>\n",
       "      <th>36</th>\n",
       "      <td>Wankhede Stadium, Mumbai</td>\n",
       "      <td>1</td>\n",
       "      <td>South Africa</td>\n",
       "      <td>England</td>\n",
       "      <td>399</td>\n",
       "      <td>50.000000</td>\n",
       "    </tr>\n",
       "    <tr>\n",
       "      <th>37</th>\n",
       "      <td>Wankhede Stadium, Mumbai</td>\n",
       "      <td>2</td>\n",
       "      <td>England</td>\n",
       "      <td>South Africa</td>\n",
       "      <td>170</td>\n",
       "      <td>22.000000</td>\n",
       "    </tr>\n",
       "    <tr>\n",
       "      <th>38</th>\n",
       "      <td>Himachal Pradesh Cricket Association Stadium, ...</td>\n",
       "      <td>1</td>\n",
       "      <td>New Zealand</td>\n",
       "      <td>India</td>\n",
       "      <td>273</td>\n",
       "      <td>50.000000</td>\n",
       "    </tr>\n",
       "    <tr>\n",
       "      <th>39</th>\n",
       "      <td>Himachal Pradesh Cricket Association Stadium, ...</td>\n",
       "      <td>2</td>\n",
       "      <td>India</td>\n",
       "      <td>New Zealand</td>\n",
       "      <td>274</td>\n",
       "      <td>48.000000</td>\n",
       "    </tr>\n",
       "  </tbody>\n",
       "</table>\n",
       "</div>"
      ],
      "text/plain": [
       "                                              venue_x  innings  batting_team  \\\n",
       "0                    Narendra Modi Stadium, Ahmedabad        1       England   \n",
       "1                    Narendra Modi Stadium, Ahmedabad        2   New Zealand   \n",
       "2   Rajiv Gandhi International Stadium, Uppal, Hyd...        1      Pakistan   \n",
       "3   Rajiv Gandhi International Stadium, Uppal, Hyd...        2   Netherlands   \n",
       "4   Himachal Pradesh Cricket Association Stadium, ...        1   Afghanistan   \n",
       "5   Himachal Pradesh Cricket Association Stadium, ...        2    Bangladesh   \n",
       "6                         Arun Jaitley Stadium, Delhi        1  South Africa   \n",
       "7                         Arun Jaitley Stadium, Delhi        2     Sri Lanka   \n",
       "8            MA Chidambaram Stadium, Chepauk, Chennai        1     Australia   \n",
       "9            MA Chidambaram Stadium, Chepauk, Chennai        2         India   \n",
       "10  Rajiv Gandhi International Stadium, Uppal, Hyd...        1   New Zealand   \n",
       "11  Rajiv Gandhi International Stadium, Uppal, Hyd...        2   Netherlands   \n",
       "12  Himachal Pradesh Cricket Association Stadium, ...        1       England   \n",
       "13  Himachal Pradesh Cricket Association Stadium, ...        2    Bangladesh   \n",
       "14  Rajiv Gandhi International Stadium, Uppal, Hyd...        1     Sri Lanka   \n",
       "15  Rajiv Gandhi International Stadium, Uppal, Hyd...        2      Pakistan   \n",
       "16                        Arun Jaitley Stadium, Delhi        1   Afghanistan   \n",
       "17                        Arun Jaitley Stadium, Delhi        2         India   \n",
       "18           MA Chidambaram Stadium, Chepauk, Chennai        1    Bangladesh   \n",
       "19           MA Chidambaram Stadium, Chepauk, Chennai        2   New Zealand   \n",
       "20                   Narendra Modi Stadium, Ahmedabad        1      Pakistan   \n",
       "21                   Narendra Modi Stadium, Ahmedabad        2         India   \n",
       "22                        Arun Jaitley Stadium, Delhi        1   Afghanistan   \n",
       "23                        Arun Jaitley Stadium, Delhi        2       England   \n",
       "24  Bharat Ratna Shri Atal Bihari Vajpayee Ekana C...        1     Sri Lanka   \n",
       "25  Bharat Ratna Shri Atal Bihari Vajpayee Ekana C...        2     Australia   \n",
       "26  Himachal Pradesh Cricket Association Stadium, ...        1   Netherlands   \n",
       "27  Himachal Pradesh Cricket Association Stadium, ...        2  South Africa   \n",
       "28           MA Chidambaram Stadium, Chepauk, Chennai        1   New Zealand   \n",
       "29           MA Chidambaram Stadium, Chepauk, Chennai        2   Afghanistan   \n",
       "30      Maharashtra Cricket Association Stadium, Pune        1    Bangladesh   \n",
       "31      Maharashtra Cricket Association Stadium, Pune        2         India   \n",
       "32                   M Chinnaswamy Stadium, Bengaluru        1     Australia   \n",
       "33                   M Chinnaswamy Stadium, Bengaluru        2      Pakistan   \n",
       "34  Bharat Ratna Shri Atal Bihari Vajpayee Ekana C...        1   Netherlands   \n",
       "35  Bharat Ratna Shri Atal Bihari Vajpayee Ekana C...        2     Sri Lanka   \n",
       "36                           Wankhede Stadium, Mumbai        1  South Africa   \n",
       "37                           Wankhede Stadium, Mumbai        2       England   \n",
       "38  Himachal Pradesh Cricket Association Stadium, ...        1   New Zealand   \n",
       "39  Himachal Pradesh Cricket Association Stadium, ...        2         India   \n",
       "\n",
       "    bowling_team  total_runs_per_inning_match  Total_Overs_Played  \n",
       "0    New Zealand                          282           50.000000  \n",
       "1        England                          283           36.333333  \n",
       "2    Netherlands                          286           48.833333  \n",
       "3       Pakistan                          205           41.000000  \n",
       "4     Bangladesh                          156           37.333333  \n",
       "5    Afghanistan                          158           34.666667  \n",
       "6      Sri Lanka                          428           50.000000  \n",
       "7   South Africa                          326           44.833333  \n",
       "8          India                          199           49.500000  \n",
       "9      Australia                          201           41.333333  \n",
       "10   Netherlands                          322           50.000000  \n",
       "11   New Zealand                          223           46.500000  \n",
       "12    Bangladesh                          364           50.000000  \n",
       "13       England                          227           48.333333  \n",
       "14      Pakistan                          344           50.000000  \n",
       "15     Sri Lanka                          345           48.333333  \n",
       "16         India                          272           50.000000  \n",
       "17   Afghanistan                          273           35.000000  \n",
       "18   New Zealand                          245           50.000000  \n",
       "19    Bangladesh                          248           42.833333  \n",
       "20         India                          191           42.833333  \n",
       "21      Pakistan                          192           30.500000  \n",
       "22       England                          284           49.833333  \n",
       "23   Afghanistan                          215           40.500000  \n",
       "24     Australia                          209           43.500000  \n",
       "25     Sri Lanka                          215           35.333333  \n",
       "26  South Africa                          245           43.000000  \n",
       "27   Netherlands                          207           42.833333  \n",
       "28   Afghanistan                          288           50.000000  \n",
       "29   New Zealand                          139           34.666667  \n",
       "30         India                          256           50.000000  \n",
       "31    Bangladesh                          261           41.500000  \n",
       "32      Pakistan                          367           50.000000  \n",
       "33     Australia                          305           45.500000  \n",
       "34     Sri Lanka                          262           49.666667  \n",
       "35   Netherlands                          263           48.333333  \n",
       "36       England                          399           50.000000  \n",
       "37  South Africa                          170           22.000000  \n",
       "38         India                          273           50.000000  \n",
       "39   New Zealand                          274           48.000000  "
      ]
     },
     "execution_count": 62,
     "metadata": {},
     "output_type": "execute_result"
    }
   ],
   "source": [
    "df.head(40)"
   ]
  },
  {
   "cell_type": "code",
   "execution_count": 63,
   "metadata": {},
   "outputs": [
    {
     "data": {
      "text/plain": [
       "(64, 6)"
      ]
     },
     "execution_count": 63,
     "metadata": {},
     "output_type": "execute_result"
    }
   ],
   "source": [
    "df.shape"
   ]
  },
  {
   "cell_type": "code",
   "execution_count": 64,
   "metadata": {},
   "outputs": [
    {
     "data": {
      "text/plain": [
       "Index(['venue_x', 'innings', 'batting_team', 'bowling_team',\n",
       "       'total_runs_per_inning_match', 'Total_Overs_Played'],\n",
       "      dtype='object')"
      ]
     },
     "execution_count": 64,
     "metadata": {},
     "output_type": "execute_result"
    }
   ],
   "source": [
    "df.columns"
   ]
  },
  {
   "cell_type": "code",
   "execution_count": 65,
   "metadata": {},
   "outputs": [
    {
     "data": {
      "text/plain": [
       "venue_x                         object\n",
       "innings                          int64\n",
       "batting_team                    object\n",
       "bowling_team                    object\n",
       "total_runs_per_inning_match      int64\n",
       "Total_Overs_Played             float64\n",
       "dtype: object"
      ]
     },
     "execution_count": 65,
     "metadata": {},
     "output_type": "execute_result"
    }
   ],
   "source": [
    "df.dtypes"
   ]
  },
  {
   "cell_type": "code",
   "execution_count": 66,
   "metadata": {},
   "outputs": [
    {
     "data": {
      "text/html": [
       "<div>\n",
       "<style scoped>\n",
       "    .dataframe tbody tr th:only-of-type {\n",
       "        vertical-align: middle;\n",
       "    }\n",
       "\n",
       "    .dataframe tbody tr th {\n",
       "        vertical-align: top;\n",
       "    }\n",
       "\n",
       "    .dataframe thead th {\n",
       "        text-align: right;\n",
       "    }\n",
       "</style>\n",
       "<table border=\"1\" class=\"dataframe\">\n",
       "  <thead>\n",
       "    <tr style=\"text-align: right;\">\n",
       "      <th></th>\n",
       "      <th>innings</th>\n",
       "      <th>total_runs_per_inning_match</th>\n",
       "      <th>Total_Overs_Played</th>\n",
       "    </tr>\n",
       "  </thead>\n",
       "  <tbody>\n",
       "    <tr>\n",
       "      <th>count</th>\n",
       "      <td>64.000000</td>\n",
       "      <td>64.000000</td>\n",
       "      <td>64.000000</td>\n",
       "    </tr>\n",
       "    <tr>\n",
       "      <th>mean</th>\n",
       "      <td>1.500000</td>\n",
       "      <td>255.234375</td>\n",
       "      <td>44.028646</td>\n",
       "    </tr>\n",
       "    <tr>\n",
       "      <th>std</th>\n",
       "      <td>0.503953</td>\n",
       "      <td>75.345710</td>\n",
       "      <td>7.403736</td>\n",
       "    </tr>\n",
       "    <tr>\n",
       "      <th>min</th>\n",
       "      <td>1.000000</td>\n",
       "      <td>90.000000</td>\n",
       "      <td>21.000000</td>\n",
       "    </tr>\n",
       "    <tr>\n",
       "      <th>25%</th>\n",
       "      <td>1.000000</td>\n",
       "      <td>204.750000</td>\n",
       "      <td>40.958333</td>\n",
       "    </tr>\n",
       "    <tr>\n",
       "      <th>50%</th>\n",
       "      <td>1.500000</td>\n",
       "      <td>252.000000</td>\n",
       "      <td>47.000000</td>\n",
       "    </tr>\n",
       "    <tr>\n",
       "      <th>75%</th>\n",
       "      <td>2.000000</td>\n",
       "      <td>286.500000</td>\n",
       "      <td>50.000000</td>\n",
       "    </tr>\n",
       "    <tr>\n",
       "      <th>max</th>\n",
       "      <td>2.000000</td>\n",
       "      <td>428.000000</td>\n",
       "      <td>50.000000</td>\n",
       "    </tr>\n",
       "  </tbody>\n",
       "</table>\n",
       "</div>"
      ],
      "text/plain": [
       "         innings  total_runs_per_inning_match  Total_Overs_Played\n",
       "count  64.000000                    64.000000           64.000000\n",
       "mean    1.500000                   255.234375           44.028646\n",
       "std     0.503953                    75.345710            7.403736\n",
       "min     1.000000                    90.000000           21.000000\n",
       "25%     1.000000                   204.750000           40.958333\n",
       "50%     1.500000                   252.000000           47.000000\n",
       "75%     2.000000                   286.500000           50.000000\n",
       "max     2.000000                   428.000000           50.000000"
      ]
     },
     "execution_count": 66,
     "metadata": {},
     "output_type": "execute_result"
    }
   ],
   "source": [
    "df.describe()"
   ]
  },
  {
   "cell_type": "code",
   "execution_count": 67,
   "metadata": {},
   "outputs": [
    {
     "name": "stdout",
     "output_type": "stream",
     "text": [
      "<class 'pandas.core.frame.DataFrame'>\n",
      "RangeIndex: 64 entries, 0 to 63\n",
      "Data columns (total 6 columns):\n",
      " #   Column                       Non-Null Count  Dtype  \n",
      "---  ------                       --------------  -----  \n",
      " 0   venue_x                      64 non-null     object \n",
      " 1   innings                      64 non-null     int64  \n",
      " 2   batting_team                 64 non-null     object \n",
      " 3   bowling_team                 64 non-null     object \n",
      " 4   total_runs_per_inning_match  64 non-null     int64  \n",
      " 5   Total_Overs_Played           64 non-null     float64\n",
      "dtypes: float64(1), int64(2), object(3)\n",
      "memory usage: 3.1+ KB\n"
     ]
    }
   ],
   "source": [
    "df.info()"
   ]
  },
  {
   "cell_type": "code",
   "execution_count": 68,
   "metadata": {},
   "outputs": [
    {
     "data": {
      "text/plain": [
       "venue_x                        0\n",
       "innings                        0\n",
       "batting_team                   0\n",
       "bowling_team                   0\n",
       "total_runs_per_inning_match    0\n",
       "Total_Overs_Played             0\n",
       "dtype: int64"
      ]
     },
     "execution_count": 68,
     "metadata": {},
     "output_type": "execute_result"
    }
   ],
   "source": [
    "df.isnull().sum()"
   ]
  },
  {
   "cell_type": "code",
   "execution_count": 69,
   "metadata": {},
   "outputs": [
    {
     "data": {
      "text/plain": [
       "venue_x                        10\n",
       "innings                         2\n",
       "batting_team                   10\n",
       "bowling_team                   10\n",
       "total_runs_per_inning_match    55\n",
       "Total_Overs_Played             38\n",
       "dtype: int64"
      ]
     },
     "execution_count": 69,
     "metadata": {},
     "output_type": "execute_result"
    }
   ],
   "source": [
    "df.nunique()"
   ]
  },
  {
   "cell_type": "code",
   "execution_count": 70,
   "metadata": {},
   "outputs": [
    {
     "data": {
      "text/plain": [
       "['venue_x', 'batting_team', 'bowling_team']"
      ]
     },
     "execution_count": 70,
     "metadata": {},
     "output_type": "execute_result"
    }
   ],
   "source": [
    "cat = [col for col in df if df[col].dtype == 'object']\n",
    "cat"
   ]
  },
  {
   "cell_type": "code",
   "execution_count": 71,
   "metadata": {},
   "outputs": [],
   "source": [
    "from sklearn import preprocessing\n",
    "le = preprocessing.LabelEncoder()"
   ]
  },
  {
   "cell_type": "code",
   "execution_count": 72,
   "metadata": {},
   "outputs": [],
   "source": [
    "mapping = {}\n",
    "\n",
    "for column in cat:\n",
    "    df[column] = le.fit_transform(df[column])\n",
    "    mapping[column] = dict(zip(le.classes_, le.transform(le.classes_)))"
   ]
  },
  {
   "cell_type": "code",
   "execution_count": 73,
   "metadata": {},
   "outputs": [
    {
     "name": "stdout",
     "output_type": "stream",
     "text": [
      "Mapping for column \"venue_x\":\n",
      "Arun Jaitley Stadium, Delhi: 0\n",
      "Bharat Ratna Shri Atal Bihari Vajpayee Ekana Cricket Stadium, Lucknow: 1\n",
      "Eden Gardens, Kolkata: 2\n",
      "Himachal Pradesh Cricket Association Stadium, Dharamsala: 3\n",
      "M Chinnaswamy Stadium, Bengaluru: 4\n",
      "MA Chidambaram Stadium, Chepauk, Chennai: 5\n",
      "Maharashtra Cricket Association Stadium, Pune: 6\n",
      "Narendra Modi Stadium, Ahmedabad: 7\n",
      "Rajiv Gandhi International Stadium, Uppal, Hyderabad: 8\n",
      "Wankhede Stadium, Mumbai: 9\n",
      "\n",
      "Mapping for column \"batting_team\":\n",
      "Afghanistan: 0\n",
      "Australia: 1\n",
      "Bangladesh: 2\n",
      "England: 3\n",
      "India: 4\n",
      "Netherlands: 5\n",
      "New Zealand: 6\n",
      "Pakistan: 7\n",
      "South Africa: 8\n",
      "Sri Lanka: 9\n",
      "\n",
      "Mapping for column \"bowling_team\":\n",
      "Afghanistan: 0\n",
      "Australia: 1\n",
      "Bangladesh: 2\n",
      "England: 3\n",
      "India: 4\n",
      "Netherlands: 5\n",
      "New Zealand: 6\n",
      "Pakistan: 7\n",
      "South Africa: 8\n",
      "Sri Lanka: 9\n",
      "\n"
     ]
    }
   ],
   "source": [
    "for column_name in cat:\n",
    "    print(f'Mapping for column \"{column_name}\":')\n",
    "    for key, value in mapping[column_name].items():\n",
    "        print(f'{key}: {value}')\n",
    "    print()\n"
   ]
  },
  {
   "cell_type": "code",
   "execution_count": 74,
   "metadata": {},
   "outputs": [],
   "source": [
    "from sklearn.model_selection import train_test_split, cross_validate, cross_val_score, GridSearchCV\n",
    "from sklearn.metrics import mean_squared_error, mean_absolute_error\n",
    "\n",
    "# Models-------------------------\n",
    "from sklearn.linear_model import LinearRegression\n",
    "from sklearn.ensemble import RandomForestRegressor\n",
    "from sklearn.preprocessing import PolynomialFeatures\n",
    "from sklearn.pipeline import make_pipeline\n",
    "from xgboost import XGBRegressor\n"
   ]
  },
  {
   "cell_type": "code",
   "execution_count": 75,
   "metadata": {},
   "outputs": [],
   "source": [
    "X = df[['batting_team','bowling_team','venue_x','total_runs_per_inning_match','innings']]\n",
    "y = df['Total_Overs_Played']"
   ]
  },
  {
   "cell_type": "code",
   "execution_count": 76,
   "metadata": {},
   "outputs": [],
   "source": [
    "X_train, X_test, y_train, y_test = train_test_split(X,y, random_state=42,test_size=0.20, shuffle=True)"
   ]
  },
  {
   "cell_type": "code",
   "execution_count": 77,
   "metadata": {},
   "outputs": [
    {
     "name": "stdout",
     "output_type": "stream",
     "text": [
      "    batting_team  bowling_team  venue_x  total_runs_per_inning_match  innings\n",
      "52             1             6        3                          388        1\n",
      "58             9             0        6                          241        1\n",
      "0              3             6        7                          282        1\n",
      "44             8             2        9                          382        1\n",
      "5              2             0        3                          158        2\n",
      "36             8             3        9                          399        1\n",
      "16             0             4        0                          272        1\n",
      "12             3             2        3                          364        1\n",
      "25             1             9        1                          215        2\n",
      "61             7             2        2                          205        2\n",
      "56             4             3        1                          229        1\n",
      "9              4             1        5                          201        2\n",
      "40             7             0        5                          282        1\n"
     ]
    }
   ],
   "source": [
    "print(X_test)"
   ]
  },
  {
   "cell_type": "code",
   "execution_count": 78,
   "metadata": {},
   "outputs": [
    {
     "data": {
      "text/plain": [
       "((51, 5), (13, 5))"
      ]
     },
     "execution_count": 78,
     "metadata": {},
     "output_type": "execute_result"
    }
   ],
   "source": [
    "size_scaler = preprocessing.StandardScaler().fit(X_train)\n",
    "X_train_scaled = size_scaler.transform(X_train)\n",
    "X_test_scaled = size_scaler.transform(X_test)\n",
    "X_train_scaled.shape, X_test_scaled.shape"
   ]
  },
  {
   "cell_type": "code",
   "execution_count": 79,
   "metadata": {},
   "outputs": [],
   "source": [
    "model_dict = {\n",
    "    'LinearRegression': {\"model\": LinearRegression(), \"params\": {}},\n",
    "    'RandomForestRegressor': {\"model\": RandomForestRegressor(random_state=42),\n",
    "                     \"params\": {'n_estimators': list(range(5, 50, 5)), 'max_depth': list(range(1, 10, 2))}},\n",
    "    # 'XGBRegressor': {\"model\": XGBRegressor(), \"params\": {'n_estimators': list(range(10, 800, 100)), 'learning_rate': [0.001, 0.01, 0.1]}},\n",
    "    'PolynomialFeatures': {\"model\": make_pipeline(PolynomialFeatures(), LinearRegression()),\n",
    "                      \"params\": {'polynomialfeatures__degree': [2,3]}}\n",
    "}\n"
   ]
  },
  {
   "cell_type": "code",
   "execution_count": 80,
   "metadata": {},
   "outputs": [],
   "source": [
    "def eval_models():\n",
    "    model_results = pd.DataFrame()\n",
    "    model_results['Train_RMSE'] = None\n",
    "    model_results['Test_RMSE'] = None\n",
    "    model_results['Train_MAE'] = None\n",
    "    model_results['Test_MAE'] = None\n",
    "    model_results['best_params'] = None\n",
    "    best_test_score = math.inf\n",
    "\n",
    "    for model_name, reg_model in model_dict.items():\n",
    "        classifier = GridSearchCV(reg_model['model'], reg_model['params'], n_jobs=20, verbose=0)\n",
    "        classifier.fit(X_train_scaled, y_train)\n",
    "        best_model = classifier.best_estimator_\n",
    "\n",
    "        y_train_predicted = best_model.predict(X_train_scaled)\n",
    "        train_rmse = np.sqrt(mean_squared_error(y_train, y_train_predicted))\n",
    "        train_mae = mean_absolute_error(y_train, y_train_predicted)\n",
    "\n",
    "        print(model_name, train_rmse, classifier.best_params_)\n",
    "\n",
    "        y_predicted = best_model.predict(X_test_scaled)\n",
    "        test_rmse = np.sqrt(mean_squared_error(y_test, y_predicted))\n",
    "        test_mae = mean_absolute_error(y_test, y_predicted)\n",
    "\n",
    "        if test_rmse < best_test_score:\n",
    "            best_test_score = test_rmse\n",
    "            best_reg_model_ours = best_model\n",
    "\n",
    "        model_results.loc[model_name, ['Train_RMSE', 'Test_RMSE', 'Train_MAE', 'Test_MAE', 'best_params']] = [train_rmse, test_rmse, train_mae, test_mae, classifier.best_params_]\n",
    "\n",
    "    print(\"Best model: \", best_reg_model_ours)\n",
    "    y_predicted = best_reg_model_ours.predict(X_test_scaled)\n",
    "\n",
    "    return model_results,best_reg_model_ours"
   ]
  },
  {
   "cell_type": "code",
   "execution_count": 81,
   "metadata": {},
   "outputs": [
    {
     "name": "stdout",
     "output_type": "stream",
     "text": [
      "LinearRegression 4.896128197935495 {}\n",
      "RandomForestRegressor 2.9471541416381206 {'max_depth': 3, 'n_estimators': 35}\n",
      "PolynomialFeatures 3.323795616983923 {'polynomialfeatures__degree': 2}\n",
      "Best model:  LinearRegression()\n"
     ]
    },
    {
     "data": {
      "text/html": [
       "<div>\n",
       "<style scoped>\n",
       "    .dataframe tbody tr th:only-of-type {\n",
       "        vertical-align: middle;\n",
       "    }\n",
       "\n",
       "    .dataframe tbody tr th {\n",
       "        vertical-align: top;\n",
       "    }\n",
       "\n",
       "    .dataframe thead th {\n",
       "        text-align: right;\n",
       "    }\n",
       "</style>\n",
       "<table border=\"1\" class=\"dataframe\">\n",
       "  <thead>\n",
       "    <tr style=\"text-align: right;\">\n",
       "      <th></th>\n",
       "      <th>Train_RMSE</th>\n",
       "      <th>Test_RMSE</th>\n",
       "      <th>Train_MAE</th>\n",
       "      <th>Test_MAE</th>\n",
       "      <th>best_params</th>\n",
       "    </tr>\n",
       "  </thead>\n",
       "  <tbody>\n",
       "    <tr>\n",
       "      <th>LinearRegression</th>\n",
       "      <td>4.896128</td>\n",
       "      <td>4.332698</td>\n",
       "      <td>3.761022</td>\n",
       "      <td>3.945144</td>\n",
       "      <td>{}</td>\n",
       "    </tr>\n",
       "    <tr>\n",
       "      <th>RandomForestRegressor</th>\n",
       "      <td>2.947154</td>\n",
       "      <td>4.530194</td>\n",
       "      <td>2.281807</td>\n",
       "      <td>3.149911</td>\n",
       "      <td>{'max_depth': 3, 'n_estimators': 35}</td>\n",
       "    </tr>\n",
       "    <tr>\n",
       "      <th>PolynomialFeatures</th>\n",
       "      <td>3.323796</td>\n",
       "      <td>4.365824</td>\n",
       "      <td>2.577271</td>\n",
       "      <td>3.288372</td>\n",
       "      <td>{'polynomialfeatures__degree': 2}</td>\n",
       "    </tr>\n",
       "  </tbody>\n",
       "</table>\n",
       "</div>"
      ],
      "text/plain": [
       "                      Train_RMSE Test_RMSE Train_MAE  Test_MAE  \\\n",
       "LinearRegression        4.896128  4.332698  3.761022  3.945144   \n",
       "RandomForestRegressor   2.947154  4.530194  2.281807  3.149911   \n",
       "PolynomialFeatures      3.323796  4.365824  2.577271  3.288372   \n",
       "\n",
       "                                                best_params  \n",
       "LinearRegression                                         {}  \n",
       "RandomForestRegressor  {'max_depth': 3, 'n_estimators': 35}  \n",
       "PolynomialFeatures        {'polynomialfeatures__degree': 2}  "
      ]
     },
     "execution_count": 81,
     "metadata": {},
     "output_type": "execute_result"
    }
   ],
   "source": [
    "model_results,best_reg_model_ours = eval_models()\n",
    "model_results"
   ]
  },
  {
   "cell_type": "code",
   "execution_count": 82,
   "metadata": {},
   "outputs": [
    {
     "name": "stdout",
     "output_type": "stream",
     "text": [
      "LinearRegression()\n"
     ]
    }
   ],
   "source": [
    "print(best_reg_model_ours)"
   ]
  },
  {
   "cell_type": "code",
   "execution_count": 83,
   "metadata": {},
   "outputs": [],
   "source": [
    "y_predicted = best_reg_model_ours.predict(X_test_scaled)"
   ]
  },
  {
   "cell_type": "code",
   "execution_count": 84,
   "metadata": {},
   "outputs": [
    {
     "name": "stdout",
     "output_type": "stream",
     "text": [
      "[56.33571365 43.84282807 48.68256255 53.7655297  36.58846208 54.9029428\n",
      " 48.78272655 54.04994474 40.64586993 37.9700972  44.55657181 38.85899629\n",
      " 47.24799897]\n"
     ]
    }
   ],
   "source": [
    "print(y_predicted)"
   ]
  },
  {
   "cell_type": "code",
   "execution_count": 85,
   "metadata": {},
   "outputs": [
    {
     "data": {
      "text/html": [
       "<style>#sk-container-id-4 {color: black;}#sk-container-id-4 pre{padding: 0;}#sk-container-id-4 div.sk-toggleable {background-color: white;}#sk-container-id-4 label.sk-toggleable__label {cursor: pointer;display: block;width: 100%;margin-bottom: 0;padding: 0.3em;box-sizing: border-box;text-align: center;}#sk-container-id-4 label.sk-toggleable__label-arrow:before {content: \"▸\";float: left;margin-right: 0.25em;color: #696969;}#sk-container-id-4 label.sk-toggleable__label-arrow:hover:before {color: black;}#sk-container-id-4 div.sk-estimator:hover label.sk-toggleable__label-arrow:before {color: black;}#sk-container-id-4 div.sk-toggleable__content {max-height: 0;max-width: 0;overflow: hidden;text-align: left;background-color: #f0f8ff;}#sk-container-id-4 div.sk-toggleable__content pre {margin: 0.2em;color: black;border-radius: 0.25em;background-color: #f0f8ff;}#sk-container-id-4 input.sk-toggleable__control:checked~div.sk-toggleable__content {max-height: 200px;max-width: 100%;overflow: auto;}#sk-container-id-4 input.sk-toggleable__control:checked~label.sk-toggleable__label-arrow:before {content: \"▾\";}#sk-container-id-4 div.sk-estimator input.sk-toggleable__control:checked~label.sk-toggleable__label {background-color: #d4ebff;}#sk-container-id-4 div.sk-label input.sk-toggleable__control:checked~label.sk-toggleable__label {background-color: #d4ebff;}#sk-container-id-4 input.sk-hidden--visually {border: 0;clip: rect(1px 1px 1px 1px);clip: rect(1px, 1px, 1px, 1px);height: 1px;margin: -1px;overflow: hidden;padding: 0;position: absolute;width: 1px;}#sk-container-id-4 div.sk-estimator {font-family: monospace;background-color: #f0f8ff;border: 1px dotted black;border-radius: 0.25em;box-sizing: border-box;margin-bottom: 0.5em;}#sk-container-id-4 div.sk-estimator:hover {background-color: #d4ebff;}#sk-container-id-4 div.sk-parallel-item::after {content: \"\";width: 100%;border-bottom: 1px solid gray;flex-grow: 1;}#sk-container-id-4 div.sk-label:hover label.sk-toggleable__label {background-color: #d4ebff;}#sk-container-id-4 div.sk-serial::before {content: \"\";position: absolute;border-left: 1px solid gray;box-sizing: border-box;top: 0;bottom: 0;left: 50%;z-index: 0;}#sk-container-id-4 div.sk-serial {display: flex;flex-direction: column;align-items: center;background-color: white;padding-right: 0.2em;padding-left: 0.2em;position: relative;}#sk-container-id-4 div.sk-item {position: relative;z-index: 1;}#sk-container-id-4 div.sk-parallel {display: flex;align-items: stretch;justify-content: center;background-color: white;position: relative;}#sk-container-id-4 div.sk-item::before, #sk-container-id-4 div.sk-parallel-item::before {content: \"\";position: absolute;border-left: 1px solid gray;box-sizing: border-box;top: 0;bottom: 0;left: 50%;z-index: -1;}#sk-container-id-4 div.sk-parallel-item {display: flex;flex-direction: column;z-index: 1;position: relative;background-color: white;}#sk-container-id-4 div.sk-parallel-item:first-child::after {align-self: flex-end;width: 50%;}#sk-container-id-4 div.sk-parallel-item:last-child::after {align-self: flex-start;width: 50%;}#sk-container-id-4 div.sk-parallel-item:only-child::after {width: 0;}#sk-container-id-4 div.sk-dashed-wrapped {border: 1px dashed gray;margin: 0 0.4em 0.5em 0.4em;box-sizing: border-box;padding-bottom: 0.4em;background-color: white;}#sk-container-id-4 div.sk-label label {font-family: monospace;font-weight: bold;display: inline-block;line-height: 1.2em;}#sk-container-id-4 div.sk-label-container {text-align: center;}#sk-container-id-4 div.sk-container {/* jupyter's `normalize.less` sets `[hidden] { display: none; }` but bootstrap.min.css set `[hidden] { display: none !important; }` so we also need the `!important` here to be able to override the default hidden behavior on the sphinx rendered scikit-learn.org. See: https://github.com/scikit-learn/scikit-learn/issues/21755 */display: inline-block !important;position: relative;}#sk-container-id-4 div.sk-text-repr-fallback {display: none;}</style><div id=\"sk-container-id-4\" class=\"sk-top-container\"><div class=\"sk-text-repr-fallback\"><pre>LinearRegression()</pre><b>In a Jupyter environment, please rerun this cell to show the HTML representation or trust the notebook. <br />On GitHub, the HTML representation is unable to render, please try loading this page with nbviewer.org.</b></div><div class=\"sk-container\" hidden><div class=\"sk-item\"><div class=\"sk-estimator sk-toggleable\"><input class=\"sk-toggleable__control sk-hidden--visually\" id=\"sk-estimator-id-4\" type=\"checkbox\" checked><label for=\"sk-estimator-id-4\" class=\"sk-toggleable__label sk-toggleable__label-arrow\">LinearRegression</label><div class=\"sk-toggleable__content\"><pre>LinearRegression()</pre></div></div></div></div></div>"
      ],
      "text/plain": [
       "LinearRegression()"
      ]
     },
     "execution_count": 85,
     "metadata": {},
     "output_type": "execute_result"
    }
   ],
   "source": [
    "classifier=best_reg_model_ours\n",
    "classifier.fit(X_train,y_train)"
   ]
  },
  {
   "cell_type": "code",
   "execution_count": 86,
   "metadata": {},
   "outputs": [],
   "source": [
    "import pickle\n",
    "pickle_out = open(\"overs.pkl\",\"wb\")\n",
    "pickle.dump(classifier, pickle_out)\n",
    "pickle_out.close()"
   ]
  }
 ],
 "metadata": {
  "kernelspec": {
   "display_name": "Python 3",
   "language": "python",
   "name": "python3"
  },
  "language_info": {
   "codemirror_mode": {
    "name": "ipython",
    "version": 3
   },
   "file_extension": ".py",
   "mimetype": "text/x-python",
   "name": "python",
   "nbconvert_exporter": "python",
   "pygments_lexer": "ipython3",
   "version": "3.11.1"
  }
 },
 "nbformat": 4,
 "nbformat_minor": 2
}
